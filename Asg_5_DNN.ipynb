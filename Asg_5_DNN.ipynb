{
  "nbformat": 4,
  "nbformat_minor": 0,
  "metadata": {
    "colab": {
      "name": "Asg 5 DNN.ipynb",
      "version": "0.3.2",
      "provenance": [],
      "collapsed_sections": [],
      "include_colab_link": true
    },
    "kernelspec": {
      "name": "python3",
      "display_name": "Python 3"
    },
    "accelerator": "GPU"
  },
  "cells": [
    {
      "cell_type": "markdown",
      "metadata": {
        "id": "view-in-github",
        "colab_type": "text"
      },
      "source": [
        "<a href=\"https://colab.research.google.com/github/Ashish-Tripathy/ComputerVision/blob/master/Asg_5_DNN.ipynb\" target=\"_parent\"><img src=\"https://colab.research.google.com/assets/colab-badge.svg\" alt=\"Open In Colab\"/></a>"
      ]
    },
    {
      "cell_type": "markdown",
      "metadata": {
        "id": "jDL8XoclLuE7",
        "colab_type": "text"
      },
      "source": [
        "# Architectural Highlights of this Iteration\n",
        "1. image normalization - Normalising image using mean and standard deviation of all the images in the input\n",
        "2. L2 regularization\n",
        "3. ReLU after BN -  I have been implementing ReLU after BN from EIP experience"
      ]
    },
    {
      "cell_type": "markdown",
      "metadata": {
        "id": "aNyZv-Ec52ot",
        "colab_type": "text"
      },
      "source": [
        "# **Import Libraries and modules**"
      ]
    },
    {
      "cell_type": "code",
      "metadata": {
        "id": "3m3w1Cw49Zkt",
        "colab_type": "code",
        "outputId": "b24d6908-5cfb-4004-db58-72c0c1c6b338",
        "colab": {
          "base_uri": "https://localhost:8080/",
          "height": 35
        }
      },
      "source": [
        "\n",
        "import keras"
      ],
      "execution_count": 1,
      "outputs": [
        {
          "output_type": "stream",
          "text": [
            "Using TensorFlow backend.\n"
          ],
          "name": "stderr"
        }
      ]
    },
    {
      "cell_type": "code",
      "metadata": {
        "id": "Eso6UHE080D4",
        "colab_type": "code",
        "colab": {}
      },
      "source": [
        "import numpy as np\n",
        "\n",
        "from keras.models import Sequential\n",
        "from keras.layers import Dense, Dropout, Activation, Flatten, Add\n",
        "from keras.layers import Convolution2D, MaxPooling2D\n",
        "from keras.utils import np_utils\n",
        "\n",
        "from keras.datasets import mnist\n",
        "from matplotlib import pyplot"
      ],
      "execution_count": 0,
      "outputs": []
    },
    {
      "cell_type": "markdown",
      "metadata": {
        "id": "zByEi95J86RD",
        "colab_type": "text"
      },
      "source": [
        "### Load pre-shuffled MNIST data into train and test sets"
      ]
    },
    {
      "cell_type": "code",
      "metadata": {
        "id": "7eRM0QWN83PV",
        "colab_type": "code",
        "colab": {}
      },
      "source": [
        "(X_train, y_train), (X_test, y_test) = mnist.load_data()"
      ],
      "execution_count": 0,
      "outputs": []
    },
    {
      "cell_type": "code",
      "metadata": {
        "id": "dUB-4KyuW-k6",
        "colab_type": "code",
        "colab": {
          "base_uri": "https://localhost:8080/",
          "height": 269
        },
        "outputId": "197334ef-dcbe-4686-a0ed-33faf4b91e04"
      },
      "source": [
        "for i in range(0, 9):\n",
        "\tpyplot.subplot(330 + 1 + i)\n",
        "\tpyplot.imshow(X_train[i], cmap=pyplot.get_cmap('gray'))\n",
        "# show the plot\n",
        "pyplot.show()"
      ],
      "execution_count": 4,
      "outputs": [
        {
          "output_type": "display_data",
          "data": {
            "image/png": "[encoded data removed]",
            "text/plain": [
              "<Figure size 432x288 with 9 Axes>"
            ]
          },
          "metadata": {
            "tags": []
          }
        }
      ]
    },
    {
      "cell_type": "code",
      "metadata": {
        "id": "dkmprriw9AnZ",
        "colab_type": "code",
        "colab": {}
      },
      "source": [
        "X_train = X_train.reshape(X_train.shape[0], 28, 28,1)\n",
        "X_test = X_test.reshape(X_test.shape[0], 28, 28,1)"
      ],
      "execution_count": 0,
      "outputs": []
    },
    {
      "cell_type": "code",
      "metadata": {
        "id": "0Mn0vAYD9DvB",
        "colab_type": "code",
        "outputId": "75a8dd3c-c6bb-4c5f-9050-bed2b3ab90a2",
        "colab": {
          "base_uri": "https://localhost:8080/",
          "height": 35
        }
      },
      "source": [
        "y_train[:10]"
      ],
      "execution_count": 14,
      "outputs": [
        {
          "output_type": "execute_result",
          "data": {
            "text/plain": [
              "array([5, 0, 4, 1, 9, 2, 1, 3, 1, 4], dtype=uint8)"
            ]
          },
          "metadata": {
            "tags": []
          },
          "execution_count": 14
        }
      ]
    },
    {
      "cell_type": "code",
      "metadata": {
        "id": "ZG8JiXR39FHC",
        "colab_type": "code",
        "colab": {}
      },
      "source": [
        "# Convert 1-dimensional class arrays to 10-dimensional class matrices\n",
        "Y_train = np_utils.to_categorical(y_train, 10)\n",
        "Y_test = np_utils.to_categorical(y_test, 10)"
      ],
      "execution_count": 0,
      "outputs": []
    },
    {
      "cell_type": "code",
      "metadata": {
        "id": "fYlFRvKS9HMB",
        "colab_type": "code",
        "outputId": "37005ab1-92d4-4aaf-a606-58f100c1c619",
        "colab": {
          "base_uri": "https://localhost:8080/",
          "height": 191
        }
      },
      "source": [
        "Y_train[:10]\n"
      ],
      "execution_count": 16,
      "outputs": [
        {
          "output_type": "execute_result",
          "data": {
            "text/plain": [
              "array([[0., 0., 0., 0., 0., 1., 0., 0., 0., 0.],\n",
              "       [1., 0., 0., 0., 0., 0., 0., 0., 0., 0.],\n",
              "       [0., 0., 0., 0., 1., 0., 0., 0., 0., 0.],\n",
              "       [0., 1., 0., 0., 0., 0., 0., 0., 0., 0.],\n",
              "       [0., 0., 0., 0., 0., 0., 0., 0., 0., 1.],\n",
              "       [0., 0., 1., 0., 0., 0., 0., 0., 0., 0.],\n",
              "       [0., 1., 0., 0., 0., 0., 0., 0., 0., 0.],\n",
              "       [0., 0., 0., 1., 0., 0., 0., 0., 0., 0.],\n",
              "       [0., 1., 0., 0., 0., 0., 0., 0., 0., 0.],\n",
              "       [0., 0., 0., 0., 1., 0., 0., 0., 0., 0.]], dtype=float32)"
            ]
          },
          "metadata": {
            "tags": []
          },
          "execution_count": 16
        }
      ]
    },
    {
      "cell_type": "markdown",
      "metadata": {
        "id": "B8Ud1rOfS40Z",
        "colab_type": "text"
      },
      "source": [
        "# Image Normalisation\n",
        "Create an Image generator that standardises data"
      ]
    },
    {
      "cell_type": "code",
      "metadata": {
        "id": "p781id4J71ZI",
        "colab_type": "code",
        "colab": {
          "base_uri": "https://localhost:8080/",
          "height": 321
        },
        "outputId": "48c16202-60ea-4d1b-e829-c3c728e5085a"
      },
      "source": [
        "from keras.preprocessing.image import ImageDataGenerator\n",
        "\n",
        "\n",
        "# report pixel means and standard deviations\n",
        "print('Statistics train=%.3f (%.3f), test=%.3f (%.3f)' % (X_train.mean(), X_train.std(), X_test.mean(), X_test.std()))\n",
        "# create generator that centers pixel values\n",
        "datagen = ImageDataGenerator(featurewise_center=True, featurewise_std_normalization=True)\n",
        "# calculate the mean on the training dataset\n",
        "datagen.fit(X_train)\n",
        "print('Data Generator mean=%.3f, std=%.3f' % (datagen.mean, datagen.std))\n",
        "\n",
        "#creating batch generators\n",
        "train_generator = datagen.flow(X_train, Y_train, batch_size=128, shuffle=False)\n",
        "validation_generator = datagen.flow(X_test, Y_test, batch_size=128, shuffle=False)\n",
        "\n",
        "\n",
        "# generating standardised data to print the stats\n",
        "iterator = datagen.flow(X_train, Y_train, batch_size=len(X_train), shuffle=False)\n",
        "\n",
        "# get a batch\n",
        "batchX, batchy = iterator.next()\n",
        "# pixel stats in the batch\n",
        "print(batchX.shape, batchX.mean(), batchX.std())\n",
        "for X_batch, y_batch in iterator:\n",
        "\t# create a grid of 3x3 images\n",
        "\tfor i in range(0, 9):\n",
        "\t\tpyplot.subplot(330 + 1 + i)\n",
        "\t\tpyplot.imshow(X_batch[i].reshape(28, 28), cmap=pyplot.get_cmap('gray'))\n",
        "\t# show the plot\n",
        "\tpyplot.show()\n",
        "\tbreak"
      ],
      "execution_count": 7,
      "outputs": [
        {
          "output_type": "stream",
          "text": [
            "Statistics train=33.318 (78.567), test=33.791 (79.172)\n",
            "Data Generator mean=33.318, std=78.567\n",
            "(60000, 28, 28, 1) -3.4560264e-07 0.9999998\n"
          ],
          "name": "stdout"
        },
        {
          "output_type": "display_data",
          "data": {
            "image/png": "[encoded data removed]",
            "text/plain": [
              "<Figure size 432x288 with 9 Axes>"
            ]
          },
          "metadata": {
            "tags": []
          }
        }
      ]
    },
    {
      "cell_type": "markdown",
      "metadata": {
        "id": "Ss4w7dazF4H0",
        "colab_type": "text"
      },
      "source": [
        "#### The normalised image is very much similar to the image generated from the original train data above."
      ]
    },
    {
      "cell_type": "markdown",
      "metadata": {
        "id": "7Ki9a7oyOF7L",
        "colab_type": "text"
      },
      "source": [
        "# Mounting Google Drive to save the best models"
      ]
    },
    {
      "cell_type": "code",
      "metadata": {
        "id": "p2_jARXhODSV",
        "colab_type": "code",
        "colab": {
          "base_uri": "https://localhost:8080/",
          "height": 35
        },
        "outputId": "244090f2-d0c6-4ff7-95cd-5aa7480bd266"
      },
      "source": [
        "from google.colab import drive\n",
        "drive.mount('/content/gdrive')"
      ],
      "execution_count": 18,
      "outputs": [
        {
          "output_type": "stream",
          "text": [
            "Drive already mounted at /content/gdrive; to attempt to forcibly remount, call drive.mount(\"/content/gdrive\", force_remount=True).\n"
          ],
          "name": "stdout"
        }
      ]
    },
    {
      "cell_type": "markdown",
      "metadata": {
        "id": "1WTKtmRVlWYS",
        "colab_type": "text"
      },
      "source": [
        "# Building the Architecture"
      ]
    },
    {
      "cell_type": "code",
      "metadata": {
        "id": "dGWcXXd6a6vY",
        "colab_type": "code",
        "outputId": "17034eb9-9e28-4fc7-ba79-5b8e6c216195",
        "colab": {
          "base_uri": "https://localhost:8080/",
          "height": 1248
        }
      },
      "source": [
        "from keras.models import Model\n",
        "from keras.layers import Input,Conv2D, BatchNormalization,Activation, Flatten\n",
        "from keras.regularizers import l2\n",
        "\n",
        "input = Input(shape=(28, 28, 1,))\n",
        "\n",
        "#defining convolution block\n",
        "def conv_block(inputs, filters,padding = 'valid'):\n",
        "  conv = Conv2D(filters = filters, kernel_size = (3,3), padding=padding, use_bias=False, \n",
        "                kernel_regularizer = l2(1E-4))(inputs)     #Adding Kernel Regularizer\n",
        "  conv = Dropout(0.1)(conv)\n",
        "  conv = BatchNormalization()(conv) # BN before ReLu\n",
        "  conv = Activation('relu')(conv)\n",
        "  return conv\n",
        "\n",
        "#defining transition block\n",
        "def bottleneck(inputs,filters):\n",
        "  conv = Conv2D(filters = filters, kernel_size = (1,1), padding = 'valid', use_bias = False)(inputs)\n",
        "  conv = Dropout(0.1)(conv)\n",
        "  conv = BatchNormalization()(conv)\n",
        "  conv = Activation('relu')(conv)\n",
        "  return MaxPooling2D()(conv)\n",
        "\n",
        "#Building the architecture\n",
        "First_Layer  =  conv_block(input, 8) #26 RF 3x3\n",
        "Second_Layer =  conv_block(First_Layer,12) #24 RF 5x5\n",
        "Third_Layer  =  conv_block(Second_Layer,16) #22 RF 5x5\n",
        "Transition_1 =  bottleneck(Third_Layer,12) #11 RF 7x7\n",
        "Fourth_Layer =  conv_block(Transition_1,16) #9 RF 14x14\n",
        "Fifth_Layer =  conv_block(Fourth_Layer,32)  #7 RF 16x16 \n",
        "last1x1      =  Conv2D(filters = 10, kernel_size = (1,1), padding = 'valid', use_bias = False)(Fifth_Layer)\n",
        "last1x1      =  Activation('relu')(last1x1)\n",
        "last_layer   =  Conv2D(filters = 10, kernel_size = (7,7), padding = 'valid', use_bias = False)(last1x1) #1; RF 22x22\n",
        "last_layer   =  BatchNormalization()(last_layer)\n",
        "flatten      =  Flatten()(last_layer)\n",
        "output       =  Activation('softmax')(flatten)\n",
        "\n",
        "#creating the model\n",
        "model = Model(inputs=[input], outputs=[output])\n",
        "model.summary()\n",
        "\n",
        "\n",
        "\n"
      ],
      "execution_count": 10,
      "outputs": [
        {
          "output_type": "stream",
          "text": [
            "_________________________________________________________________\n",
            "Layer (type)                 Output Shape              Param #   \n",
            "=================================================================\n",
            "input_2 (InputLayer)         (None, 28, 28, 1)         0         \n",
            "_________________________________________________________________\n",
            "conv2d_9 (Conv2D)            (None, 26, 26, 8)         72        \n",
            "_________________________________________________________________\n",
            "dropout_7 (Dropout)          (None, 26, 26, 8)         0         \n",
            "_________________________________________________________________\n",
            "batch_normalization_8 (Batch (None, 26, 26, 8)         32        \n",
            "_________________________________________________________________\n",
            "activation_9 (Activation)    (None, 26, 26, 8)         0         \n",
            "_________________________________________________________________\n",
            "conv2d_10 (Conv2D)           (None, 24, 24, 12)        864       \n",
            "_________________________________________________________________\n",
            "dropout_8 (Dropout)          (None, 24, 24, 12)        0         \n",
            "_________________________________________________________________\n",
            "batch_normalization_9 (Batch (None, 24, 24, 12)        48        \n",
            "_________________________________________________________________\n",
            "activation_10 (Activation)   (None, 24, 24, 12)        0         \n",
            "_________________________________________________________________\n",
            "conv2d_11 (Conv2D)           (None, 22, 22, 16)        1728      \n",
            "_________________________________________________________________\n",
            "dropout_9 (Dropout)          (None, 22, 22, 16)        0         \n",
            "_________________________________________________________________\n",
            "batch_normalization_10 (Batc (None, 22, 22, 16)        64        \n",
            "_________________________________________________________________\n",
            "activation_11 (Activation)   (None, 22, 22, 16)        0         \n",
            "_________________________________________________________________\n",
            "conv2d_12 (Conv2D)           (None, 22, 22, 12)        192       \n",
            "_________________________________________________________________\n",
            "dropout_10 (Dropout)         (None, 22, 22, 12)        0         \n",
            "_________________________________________________________________\n",
            "batch_normalization_11 (Batc (None, 22, 22, 12)        48        \n",
            "_________________________________________________________________\n",
            "activation_12 (Activation)   (None, 22, 22, 12)        0         \n",
            "_________________________________________________________________\n",
            "max_pooling2d_2 (MaxPooling2 (None, 11, 11, 12)        0         \n",
            "_________________________________________________________________\n",
            "conv2d_13 (Conv2D)           (None, 9, 9, 16)          1728      \n",
            "_________________________________________________________________\n",
            "dropout_11 (Dropout)         (None, 9, 9, 16)          0         \n",
            "_________________________________________________________________\n",
            "batch_normalization_12 (Batc (None, 9, 9, 16)          64        \n",
            "_________________________________________________________________\n",
            "activation_13 (Activation)   (None, 9, 9, 16)          0         \n",
            "_________________________________________________________________\n",
            "conv2d_14 (Conv2D)           (None, 7, 7, 32)          4608      \n",
            "_________________________________________________________________\n",
            "dropout_12 (Dropout)         (None, 7, 7, 32)          0         \n",
            "_________________________________________________________________\n",
            "batch_normalization_13 (Batc (None, 7, 7, 32)          128       \n",
            "_________________________________________________________________\n",
            "activation_14 (Activation)   (None, 7, 7, 32)          0         \n",
            "_________________________________________________________________\n",
            "conv2d_15 (Conv2D)           (None, 7, 7, 10)          320       \n",
            "_________________________________________________________________\n",
            "activation_15 (Activation)   (None, 7, 7, 10)          0         \n",
            "_________________________________________________________________\n",
            "conv2d_16 (Conv2D)           (None, 1, 1, 10)          4900      \n",
            "_________________________________________________________________\n",
            "batch_normalization_14 (Batc (None, 1, 1, 10)          40        \n",
            "_________________________________________________________________\n",
            "flatten_2 (Flatten)          (None, 10)                0         \n",
            "_________________________________________________________________\n",
            "activation_16 (Activation)   (None, 10)                0         \n",
            "=================================================================\n",
            "Total params: 14,836\n",
            "Trainable params: 14,624\n",
            "Non-trainable params: 212\n",
            "_________________________________________________________________\n"
          ],
          "name": "stdout"
        }
      ]
    },
    {
      "cell_type": "code",
      "metadata": {
        "id": "Zp6SuGrL9M3h",
        "colab_type": "code",
        "outputId": "70fe875a-b960-4bd4-9eb8-fffe17dffaa3",
        "colab": {
          "base_uri": "https://localhost:8080/",
          "height": 2828
        }
      },
      "source": [
        "from keras.callbacks import *\n",
        "\n",
        "filepath=\"/content/gdrive/My Drive/Colab Notebooks/Asg5DNNMnist_28thMay:{epoch:03d}-val_acc:{val_acc:.3f}.hdf5\"\n",
        "checkpoint = ModelCheckpoint(filepath, monitor='val_acc', verbose=1, save_best_only=True,save_weights_only=False, mode='auto')\n",
        "\n",
        "model.compile(loss='categorical_crossentropy',\n",
        "             optimizer='adam',\n",
        "             metrics=['accuracy'])\n",
        "callbacks_list = [checkpoint]\n",
        "\n",
        "\n",
        "TRAIN_STEP_SIZE = np.ceil(train_generator.n/train_generator.batch_size)\n",
        "VAL_STEP_SIZE = np.ceil(validation_generator.n/validation_generator.batch_size)\n",
        "model.fit_generator(train_generator, \n",
        "                    epochs=40,\n",
        "                    steps_per_epoch = TRAIN_STEP_SIZE,\n",
        "                    validation_steps=VAL_STEP_SIZE,\n",
        "                    validation_data=validation_generator,\n",
        "                    callbacks = callbacks_list)"
      ],
      "execution_count": 11,
      "outputs": [
        {
          "output_type": "stream",
          "text": [
            "Epoch 1/40\n",
            "469/469 [==============================] - 9s 19ms/step - loss: 0.5792 - acc: 0.9047 - val_loss: 0.2495 - val_acc: 0.9725\n",
            "\n",
            "Epoch 00001: val_acc improved from -inf to 0.97250, saving model to /content/gdrive/My Drive/Colab Notebooks/Asg5DNNMnist_28thMay:001-val_acc:0.973.hdf5\n",
            "Epoch 2/40\n",
            "469/469 [==============================] - 7s 15ms/step - loss: 0.2278 - acc: 0.9738 - val_loss: 0.1275 - val_acc: 0.9840\n",
            "\n",
            "Epoch 00002: val_acc improved from 0.97250 to 0.98400, saving model to /content/gdrive/My Drive/Colab Notebooks/Asg5DNNMnist_28thMay:002-val_acc:0.984.hdf5\n",
            "Epoch 3/40\n",
            "469/469 [==============================] - 7s 16ms/step - loss: 0.1467 - acc: 0.9812 - val_loss: 0.0916 - val_acc: 0.9881\n",
            "\n",
            "Epoch 00003: val_acc improved from 0.98400 to 0.98810, saving model to /content/gdrive/My Drive/Colab Notebooks/Asg5DNNMnist_28thMay:003-val_acc:0.988.hdf5\n",
            "Epoch 4/40\n",
            "469/469 [==============================] - 8s 17ms/step - loss: 0.1084 - acc: 0.9845 - val_loss: 0.0740 - val_acc: 0.9891\n",
            "\n",
            "Epoch 00004: val_acc improved from 0.98810 to 0.98910, saving model to /content/gdrive/My Drive/Colab Notebooks/Asg5DNNMnist_28thMay:004-val_acc:0.989.hdf5\n",
            "Epoch 5/40\n",
            "469/469 [==============================] - 7s 15ms/step - loss: 0.0873 - acc: 0.9860 - val_loss: 0.0596 - val_acc: 0.9902\n",
            "\n",
            "Epoch 00005: val_acc improved from 0.98910 to 0.99020, saving model to /content/gdrive/My Drive/Colab Notebooks/Asg5DNNMnist_28thMay:005-val_acc:0.990.hdf5\n",
            "Epoch 6/40\n",
            "469/469 [==============================] - 7s 15ms/step - loss: 0.0739 - acc: 0.9875 - val_loss: 0.0516 - val_acc: 0.9915\n",
            "\n",
            "Epoch 00006: val_acc improved from 0.99020 to 0.99150, saving model to /content/gdrive/My Drive/Colab Notebooks/Asg5DNNMnist_28thMay:006-val_acc:0.992.hdf5\n",
            "Epoch 7/40\n",
            "469/469 [==============================] - 7s 15ms/step - loss: 0.0634 - acc: 0.9891 - val_loss: 0.0464 - val_acc: 0.9911\n",
            "\n",
            "Epoch 00007: val_acc did not improve from 0.99150\n",
            "Epoch 8/40\n",
            "469/469 [==============================] - 7s 15ms/step - loss: 0.0570 - acc: 0.9895 - val_loss: 0.0437 - val_acc: 0.9913\n",
            "\n",
            "Epoch 00008: val_acc did not improve from 0.99150\n",
            "Epoch 9/40\n",
            "469/469 [==============================] - 7s 15ms/step - loss: 0.0518 - acc: 0.9902 - val_loss: 0.0375 - val_acc: 0.9917\n",
            "\n",
            "Epoch 00009: val_acc improved from 0.99150 to 0.99170, saving model to /content/gdrive/My Drive/Colab Notebooks/Asg5DNNMnist_28thMay:009-val_acc:0.992.hdf5\n",
            "Epoch 10/40\n",
            "469/469 [==============================] - 7s 15ms/step - loss: 0.0469 - acc: 0.9909 - val_loss: 0.0372 - val_acc: 0.9926\n",
            "\n",
            "Epoch 00010: val_acc improved from 0.99170 to 0.99260, saving model to /content/gdrive/My Drive/Colab Notebooks/Asg5DNNMnist_28thMay:010-val_acc:0.993.hdf5\n",
            "Epoch 11/40\n",
            "469/469 [==============================] - 8s 17ms/step - loss: 0.0435 - acc: 0.9916 - val_loss: 0.0332 - val_acc: 0.9930\n",
            "\n",
            "Epoch 00011: val_acc improved from 0.99260 to 0.99300, saving model to /content/gdrive/My Drive/Colab Notebooks/Asg5DNNMnist_28thMay:011-val_acc:0.993.hdf5\n",
            "Epoch 12/40\n",
            "469/469 [==============================] - 7s 16ms/step - loss: 0.0417 - acc: 0.9915 - val_loss: 0.0335 - val_acc: 0.9924\n",
            "\n",
            "Epoch 00012: val_acc did not improve from 0.99300\n",
            "Epoch 13/40\n",
            "469/469 [==============================] - 7s 15ms/step - loss: 0.0386 - acc: 0.9918 - val_loss: 0.0337 - val_acc: 0.9930\n",
            "\n",
            "Epoch 00013: val_acc did not improve from 0.99300\n",
            "Epoch 14/40\n",
            "469/469 [==============================] - 8s 16ms/step - loss: 0.0367 - acc: 0.9924 - val_loss: 0.0321 - val_acc: 0.9939\n",
            "\n",
            "Epoch 00014: val_acc improved from 0.99300 to 0.99390, saving model to /content/gdrive/My Drive/Colab Notebooks/Asg5DNNMnist_28thMay:014-val_acc:0.994.hdf5\n",
            "Epoch 15/40\n",
            "469/469 [==============================] - 8s 16ms/step - loss: 0.0353 - acc: 0.9926 - val_loss: 0.0309 - val_acc: 0.9928\n",
            "\n",
            "Epoch 00015: val_acc did not improve from 0.99390\n",
            "Epoch 16/40\n",
            "469/469 [==============================] - 7s 15ms/step - loss: 0.0332 - acc: 0.9929 - val_loss: 0.0299 - val_acc: 0.9935\n",
            "\n",
            "Epoch 00016: val_acc did not improve from 0.99390\n",
            "Epoch 17/40\n",
            "469/469 [==============================] - 7s 15ms/step - loss: 0.0320 - acc: 0.9933 - val_loss: 0.0301 - val_acc: 0.9929\n",
            "\n",
            "Epoch 00017: val_acc did not improve from 0.99390\n",
            "Epoch 18/40\n",
            "469/469 [==============================] - 7s 15ms/step - loss: 0.0310 - acc: 0.9935 - val_loss: 0.0318 - val_acc: 0.9930\n",
            "\n",
            "Epoch 00018: val_acc did not improve from 0.99390\n",
            "Epoch 19/40\n",
            "469/469 [==============================] - 7s 15ms/step - loss: 0.0307 - acc: 0.9934 - val_loss: 0.0333 - val_acc: 0.9923\n",
            "\n",
            "Epoch 00019: val_acc did not improve from 0.99390\n",
            "Epoch 20/40\n",
            "469/469 [==============================] - 7s 15ms/step - loss: 0.0299 - acc: 0.9936 - val_loss: 0.0288 - val_acc: 0.9926\n",
            "\n",
            "Epoch 00020: val_acc did not improve from 0.99390\n",
            "Epoch 21/40\n",
            "469/469 [==============================] - 7s 15ms/step - loss: 0.0300 - acc: 0.9936 - val_loss: 0.0305 - val_acc: 0.9924\n",
            "\n",
            "Epoch 00021: val_acc did not improve from 0.99390\n",
            "Epoch 22/40\n",
            "469/469 [==============================] - 7s 15ms/step - loss: 0.0285 - acc: 0.9941 - val_loss: 0.0320 - val_acc: 0.9927\n",
            "\n",
            "Epoch 00022: val_acc did not improve from 0.99390\n",
            "Epoch 23/40\n",
            "469/469 [==============================] - 7s 15ms/step - loss: 0.0272 - acc: 0.9942 - val_loss: 0.0267 - val_acc: 0.9932\n",
            "\n",
            "Epoch 00023: val_acc did not improve from 0.99390\n",
            "Epoch 24/40\n",
            "469/469 [==============================] - 7s 15ms/step - loss: 0.0268 - acc: 0.9943 - val_loss: 0.0315 - val_acc: 0.9924\n",
            "\n",
            "Epoch 00024: val_acc did not improve from 0.99390\n",
            "Epoch 25/40\n",
            "469/469 [==============================] - 8s 16ms/step - loss: 0.0263 - acc: 0.9945 - val_loss: 0.0329 - val_acc: 0.9916\n",
            "\n",
            "Epoch 00025: val_acc did not improve from 0.99390\n",
            "Epoch 26/40\n",
            "469/469 [==============================] - 8s 17ms/step - loss: 0.0271 - acc: 0.9941 - val_loss: 0.0307 - val_acc: 0.9922\n",
            "\n",
            "Epoch 00026: val_acc did not improve from 0.99390\n",
            "Epoch 27/40\n",
            "469/469 [==============================] - 7s 15ms/step - loss: 0.0268 - acc: 0.9943 - val_loss: 0.0299 - val_acc: 0.9921\n",
            "\n",
            "Epoch 00027: val_acc did not improve from 0.99390\n",
            "Epoch 28/40\n",
            "469/469 [==============================] - 7s 15ms/step - loss: 0.0251 - acc: 0.9948 - val_loss: 0.0300 - val_acc: 0.9920\n",
            "\n",
            "Epoch 00028: val_acc did not improve from 0.99390\n",
            "Epoch 29/40\n",
            "469/469 [==============================] - 7s 15ms/step - loss: 0.0250 - acc: 0.9944 - val_loss: 0.0287 - val_acc: 0.9931\n",
            "\n",
            "Epoch 00029: val_acc did not improve from 0.99390\n",
            "Epoch 30/40\n",
            "469/469 [==============================] - 7s 16ms/step - loss: 0.0256 - acc: 0.9942 - val_loss: 0.0373 - val_acc: 0.9900\n",
            "\n",
            "Epoch 00030: val_acc did not improve from 0.99390\n",
            "Epoch 31/40\n",
            "469/469 [==============================] - 8s 16ms/step - loss: 0.0249 - acc: 0.9947 - val_loss: 0.0312 - val_acc: 0.9927\n",
            "\n",
            "Epoch 00031: val_acc did not improve from 0.99390\n",
            "Epoch 32/40\n",
            "469/469 [==============================] - 7s 15ms/step - loss: 0.0244 - acc: 0.9949 - val_loss: 0.0307 - val_acc: 0.9928\n",
            "\n",
            "Epoch 00032: val_acc did not improve from 0.99390\n",
            "Epoch 33/40\n",
            "469/469 [==============================] - 7s 16ms/step - loss: 0.0233 - acc: 0.9953 - val_loss: 0.0332 - val_acc: 0.9913\n",
            "\n",
            "Epoch 00033: val_acc did not improve from 0.99390\n",
            "Epoch 34/40\n",
            "469/469 [==============================] - 7s 15ms/step - loss: 0.0239 - acc: 0.9948 - val_loss: 0.0340 - val_acc: 0.9913\n",
            "\n",
            "Epoch 00034: val_acc did not improve from 0.99390\n",
            "Epoch 35/40\n",
            "469/469 [==============================] - 7s 16ms/step - loss: 0.0234 - acc: 0.9950 - val_loss: 0.0267 - val_acc: 0.9941\n",
            "\n",
            "Epoch 00035: val_acc improved from 0.99390 to 0.99410, saving model to /content/gdrive/My Drive/Colab Notebooks/Asg5DNNMnist_28thMay:035-val_acc:0.994.hdf5\n",
            "Epoch 36/40\n",
            "469/469 [==============================] - 8s 16ms/step - loss: 0.0234 - acc: 0.9952 - val_loss: 0.0336 - val_acc: 0.9910\n",
            "\n",
            "Epoch 00036: val_acc did not improve from 0.99410\n",
            "Epoch 37/40\n",
            "469/469 [==============================] - 8s 17ms/step - loss: 0.0226 - acc: 0.9952 - val_loss: 0.0308 - val_acc: 0.9922\n",
            "\n",
            "Epoch 00037: val_acc did not improve from 0.99410\n",
            "Epoch 38/40\n",
            "469/469 [==============================] - 7s 15ms/step - loss: 0.0224 - acc: 0.9954 - val_loss: 0.0332 - val_acc: 0.9922\n",
            "\n",
            "Epoch 00038: val_acc did not improve from 0.99410\n",
            "Epoch 39/40\n",
            "469/469 [==============================] - 7s 15ms/step - loss: 0.0222 - acc: 0.9955 - val_loss: 0.0285 - val_acc: 0.9929\n",
            "\n",
            "Epoch 00039: val_acc did not improve from 0.99410\n",
            "Epoch 40/40\n",
            "469/469 [==============================] - 7s 15ms/step - loss: 0.0231 - acc: 0.9950 - val_loss: 0.0349 - val_acc: 0.9911\n",
            "\n",
            "Epoch 00040: val_acc did not improve from 0.99410\n"
          ],
          "name": "stdout"
        },
        {
          "output_type": "execute_result",
          "data": {
            "text/plain": [
              "<keras.callbacks.History at 0x7efed0863e10>"
            ]
          },
          "metadata": {
            "tags": []
          },
          "execution_count": 11
        }
      ]
    },
    {
      "cell_type": "markdown",
      "metadata": {
        "id": "QK4Yc8QACnf1",
        "colab_type": "text"
      },
      "source": [
        "# Predicting using the Best Model"
      ]
    },
    {
      "cell_type": "code",
      "metadata": {
        "id": "-QKylWAbfI_X",
        "colab_type": "code",
        "colab": {
          "base_uri": "https://localhost:8080/",
          "height": 35
        },
        "outputId": "5c963673-afd3-49e5-b686-d66f4c416bfa"
      },
      "source": [
        "from keras.models import load_model\n",
        "modelPath = '/content/gdrive/My Drive/Colab Notebooks/Asg5DNNMnist_28thMay:035-val_acc:0.994.hdf5'\n",
        "model = load_model(modelPath)\n",
        "\n",
        "Y_pred = model.predict(X_test)\n",
        "y_pred = np.argmax(Y_pred, axis=1)\n",
        "y_pred"
      ],
      "execution_count": 33,
      "outputs": [
        {
          "output_type": "execute_result",
          "data": {
            "text/plain": [
              "array([7, 2, 5, ..., 4, 5, 6])"
            ]
          },
          "metadata": {
            "tags": []
          },
          "execution_count": 33
        }
      ]
    },
    {
      "cell_type": "markdown",
      "metadata": {
        "id": "UKmoctkMCthp",
        "colab_type": "text"
      },
      "source": [
        "### Confusion Matrix"
      ]
    },
    {
      "cell_type": "code",
      "metadata": {
        "id": "TUlK32BWtcX4",
        "colab_type": "code",
        "colab": {
          "base_uri": "https://localhost:8080/",
          "height": 191
        },
        "outputId": "e7945d77-b53e-4d0b-dce6-913da8916b35"
      },
      "source": [
        "from sklearn import metrics\n",
        "metrics.confusion_matrix(y_test, y_pred, labels=None, sample_weight=None)"
      ],
      "execution_count": 34,
      "outputs": [
        {
          "output_type": "execute_result",
          "data": {
            "text/plain": [
              "array([[ 838,    0,   87,    0,   16,    0,   33,    0,    0,    6],\n",
              "       [   3,   31,  674,    0,  245,   92,   23,    0,    4,   63],\n",
              "       [   0,    0, 1020,    0,   10,    0,    0,    0,    0,    2],\n",
              "       [  10,    0,  152,  740,   26,   40,   25,    6,    1,   10],\n",
              "       [   0,    0,    1,    0,  946,    0,    0,    0,    0,   35],\n",
              "       [   0,    0,   16,    0,   41,  738,   54,    0,    0,   43],\n",
              "       [   7,    0,    4,    0,   38,    1,  908,    0,    0,    0],\n",
              "       [   0,    0,  213,    0,   31,    7,    1,  746,    1,   29],\n",
              "       [   2,    0,  214,    0,   69,    0,   40,    0,  591,   58],\n",
              "       [   0,    0,   10,    0,    4,    6,    1,    1,    0,  987]])"
            ]
          },
          "metadata": {
            "tags": []
          },
          "execution_count": 34
        }
      ]
    },
    {
      "cell_type": "code",
      "metadata": {
        "id": "tHYcIq8gu4cL",
        "colab_type": "code",
        "colab": {}
      },
      "source": [
        "import pandas as pd\n",
        "d = {'pred': y_pred, 'true': y_test} #axis=1!important!\n",
        "df = pd.DataFrame(data=d)"
      ],
      "execution_count": 0,
      "outputs": []
    },
    {
      "cell_type": "code",
      "metadata": {
        "id": "dqxWMRPSgFGx",
        "colab_type": "code",
        "colab": {
          "base_uri": "https://localhost:8080/",
          "height": 202
        },
        "outputId": "b03f56be-c4ba-4df9-ec5d-61078c22959d"
      },
      "source": [
        "df.head()"
      ],
      "execution_count": 37,
      "outputs": [
        {
          "output_type": "execute_result",
          "data": {
            "text/html": [
              "<div>\n",
              "<style scoped>\n",
              "    .dataframe tbody tr th:only-of-type {\n",
              "        vertical-align: middle;\n",
              "    }\n",
              "\n",
              "    .dataframe tbody tr th {\n",
              "        vertical-align: top;\n",
              "    }\n",
              "\n",
              "    .dataframe thead th {\n",
              "        text-align: right;\n",
              "    }\n",
              "</style>\n",
              "<table border=\"1\" class=\"dataframe\">\n",
              "  <thead>\n",
              "    <tr style=\"text-align: right;\">\n",
              "      <th></th>\n",
              "      <th>pred</th>\n",
              "      <th>true</th>\n",
              "    </tr>\n",
              "  </thead>\n",
              "  <tbody>\n",
              "    <tr>\n",
              "      <th>0</th>\n",
              "      <td>7</td>\n",
              "      <td>7</td>\n",
              "    </tr>\n",
              "    <tr>\n",
              "      <th>1</th>\n",
              "      <td>2</td>\n",
              "      <td>2</td>\n",
              "    </tr>\n",
              "    <tr>\n",
              "      <th>2</th>\n",
              "      <td>5</td>\n",
              "      <td>1</td>\n",
              "    </tr>\n",
              "    <tr>\n",
              "      <th>3</th>\n",
              "      <td>0</td>\n",
              "      <td>0</td>\n",
              "    </tr>\n",
              "    <tr>\n",
              "      <th>4</th>\n",
              "      <td>4</td>\n",
              "      <td>4</td>\n",
              "    </tr>\n",
              "  </tbody>\n",
              "</table>\n",
              "</div>"
            ],
            "text/plain": [
              "   pred  true\n",
              "0     7     7\n",
              "1     2     2\n",
              "2     5     1\n",
              "3     0     0\n",
              "4     4     4"
            ]
          },
          "metadata": {
            "tags": []
          },
          "execution_count": 37
        }
      ]
    },
    {
      "cell_type": "markdown",
      "metadata": {
        "id": "lEGi5w2xCyr_",
        "colab_type": "text"
      },
      "source": [
        "# Disolaying the Misclassified Images"
      ]
    },
    {
      "cell_type": "code",
      "metadata": {
        "id": "MMPBLq1PkGOA",
        "colab_type": "code",
        "colab": {}
      },
      "source": [
        "misclassified = []\n",
        "for i in range(len(y_test)):\n",
        "  if(y_test[i]!=y_pred[i]):\n",
        "    misclassified.append(i)\n",
        "    if len(misclassified)==26:\n",
        "      break\n"
      ],
      "execution_count": 0,
      "outputs": []
    },
    {
      "cell_type": "code",
      "metadata": {
        "id": "cUJJi9j5kcVY",
        "colab_type": "code",
        "colab": {
          "base_uri": "https://localhost:8080/",
          "height": 6569
        },
        "outputId": "b459867f-ac4e-4b51-bdf8-a8d5234e1fdc"
      },
      "source": [
        "for i in range(26):\n",
        "  index = misclassified[i]\n",
        "  pyplot.imshow(X_test[index].reshape(28, 28), cmap=pyplot.get_cmap('gray'))\n",
        "  pyplot.show()\n"
      ],
      "execution_count": 135,
      "outputs": [
        {
          "output_type": "display_data",
          "data": {
            "image/png": "[encoded data removed]",
            "text/plain": [
              "<Figure size 432x288 with 1 Axes>"
            ]
          },
          "metadata": {
            "tags": []
          }
        },
        {
          "output_type": "display_data",
          "data": {
            "image/png": "[encoded data removed]",
            "text/plain": [
              "<Figure size 432x288 with 1 Axes>"
            ]
          },
          "metadata": {
            "tags": []
          }
        },
        {
          "output_type": "display_data",
          "data": {
            "image/png": "[encoded data removed]",
            "text/plain": [
              "<Figure size 432x288 with 1 Axes>"
            ]
          },
          "metadata": {
            "tags": []
          }
        },
        {
          "output_type": "display_data",
          "data": {
            "image/png": "[encoded data removed]",
            "text/plain": [
              "<Figure size 432x288 with 1 Axes>"
            ]
          },
          "metadata": {
            "tags": []
          }
        },
        {
          "output_type": "display_data",
          "data": {
            "image/png": "[encoded data removed]",
            "text/plain": [
              "<Figure size 432x288 with 1 Axes>"
            ]
          },
          "metadata": {
            "tags": []
          }
        },
        {
          "output_type": "display_data",
          "data": {
            "image/png": "[encoded data removed]",
            "text/plain": [
              "<Figure size 432x288 with 1 Axes>"
            ]
          },
          "metadata": {
            "tags": []
          }
        },
        {
          "output_type": "display_data",
          "data": {
            "image/png": "[encoded data removed]",
            "text/plain": [
              "<Figure size 432x288 with 1 Axes>"
            ]
          },
          "metadata": {
            "tags": []
          }
        },
        {
          "output_type": "display_data",
          "data": {
            "image/png": "[encoded data removed]",
            "text/plain": [
              "<Figure size 432x288 with 1 Axes>"
            ]
          },
          "metadata": {
            "tags": []
          }
        },
        {
          "output_type": "display_data",
          "data": {
            "image/png": "[encoded data removed]",
            "text/plain": [
              "<Figure size 432x288 with 1 Axes>"
            ]
          },
          "metadata": {
            "tags": []
          }
        },
        {
          "output_type": "display_data",
          "data": {
            "image/png": "[encoded data removed]",
            "text/plain": [
              "<Figure size 432x288 with 1 Axes>"
            ]
          },
          "metadata": {
            "tags": []
          }
        },
        {
          "output_type": "display_data",
          "data": {
            "image/png": "[encoded data removed]",
            "text/plain": [
              "<Figure size 432x288 with 1 Axes>"
            ]
          },
          "metadata": {
            "tags": []
          }
        },
        {
          "output_type": "display_data",
          "data": {
            "image/png": "[encoded data removed]",
            "text/plain": [
              "<Figure size 432x288 with 1 Axes>"
            ]
          },
          "metadata": {
            "tags": []
          }
        },
        {
          "output_type": "display_data",
          "data": {
            "image/png": "[encoded data removed]",
            "text/plain": [
              "<Figure size 432x288 with 1 Axes>"
            ]
          },
          "metadata": {
            "tags": []
          }
        },
        {
          "output_type": "display_data",
          "data": {
            "image/png": "[encoded data removed]",
            "text/plain": [
              "<Figure size 432x288 with 1 Axes>"
            ]
          },
          "metadata": {
            "tags": []
          }
        },
        {
          "output_type": "display_data",
          "data": {
            "image/png": "[encoded data removed]",
            "text/plain": [
              "<Figure size 432x288 with 1 Axes>"
            ]
          },
          "metadata": {
            "tags": []
          }
        },
        {
          "output_type": "display_data",
          "data": {
            "image/png": "[encoded data removed]",
            "text/plain": [
              "<Figure size 432x288 with 1 Axes>"
            ]
          },
          "metadata": {
            "tags": []
          }
        },
        {
          "output_type": "display_data",
          "data": {
            "image/png": "[encoded data removed]",
            "text/plain": [
              "<Figure size 432x288 with 1 Axes>"
            ]
          },
          "metadata": {
            "tags": []
          }
        },
        {
          "output_type": "display_data",
          "data": {
            "image/png": "[encoded data removed]",
            "text/plain": [
              "<Figure size 432x288 with 1 Axes>"
            ]
          },
          "metadata": {
            "tags": []
          }
        },
        {
          "output_type": "display_data",
          "data": {
            "image/png": "[encoded data removed]",
            "text/plain": [
              "<Figure size 432x288 with 1 Axes>"
            ]
          },
          "metadata": {
            "tags": []
          }
        },
        {
          "output_type": "display_data",
          "data": {
            "image/png": "[encoded data removed]",
            "text/plain": [
              "<Figure size 432x288 with 1 Axes>"
            ]
          },
          "metadata": {
            "tags": []
          }
        },
        {
          "output_type": "display_data",
          "data": {
            "image/png": "[encoded data removed]",
            "text/plain": [
              "<Figure size 432x288 with 1 Axes>"
            ]
          },
          "metadata": {
            "tags": []
          }
        },
        {
          "output_type": "display_data",
          "data": {
            "image/png": "[encoded data removed]",
            "text/plain": [
              "<Figure size 432x288 with 1 Axes>"
            ]
          },
          "metadata": {
            "tags": []
          }
        },
        {
          "output_type": "display_data",
          "data": {
            "image/png": "[encoded data removed]",
            "text/plain": [
              "<Figure size 432x288 with 1 Axes>"
            ]
          },
          "metadata": {
            "tags": []
          }
        },
        {
          "output_type": "display_data",
          "data": {
            "image/png": "[encoded data removed]",
            "text/plain": [
              "<Figure size 432x288 with 1 Axes>"
            ]
          },
          "metadata": {
            "tags": []
          }
        },
        {
          "output_type": "display_data",
          "data": {
            "image/png": "[encoded data removed]",
            "text/plain": [
              "<Figure size 432x288 with 1 Axes>"
            ]
          },
          "metadata": {
            "tags": []
          }
        },
        {
          "output_type": "display_data",
          "data": {
            "image/png": "[encoded data removed]",
            "text/plain": [
              "<Figure size 432x288 with 1 Axes>"
            ]
          },
          "metadata": {
            "tags": []
          }
        }
      ]
    },
    {
      "cell_type": "markdown",
      "metadata": {
        "id": "8LoKnulfC-W6",
        "colab_type": "text"
      },
      "source": [
        "# Downloading the Images"
      ]
    },
    {
      "cell_type": "code",
      "metadata": {
        "id": "JuMUQJNJntBU",
        "colab_type": "code",
        "colab": {}
      },
      "source": [
        "from google.colab import files\n",
        "for i in range(26):\n",
        "  image = 'misclass_'+str(misclassified[i])+'.png'\n",
        "  pyplot.imsave(image,X_test[misclassified[i]].reshape(28, 28))\n",
        "  files.download(image)\n",
        "    "
      ],
      "execution_count": 0,
      "outputs": []
    }
  ]
}