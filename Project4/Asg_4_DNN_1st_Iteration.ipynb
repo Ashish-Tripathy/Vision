{
  "nbformat": 4,
  "nbformat_minor": 0,
  "metadata": {
    "colab": {
      "name": "Asg 4 DNN 1st Iteration.ipynb",
      "version": "0.3.2",
      "provenance": [],
      "collapsed_sections": [],
      "include_colab_link": true
    },
    "kernelspec": {
      "name": "python3",
      "display_name": "Python 3"
    },
    "accelerator": "GPU"
  },
  "cells": [
    {
      "cell_type": "markdown",
      "metadata": {
        "id": "view-in-github",
        "colab_type": "text"
      },
      "source": [
        "<a href=\"https://colab.research.google.com/github/Ashish-Tripathy/ComputerVision/blob/master/Asg_4_DNN_1st_Iteration.ipynb\" target=\"_parent\"><img src=\"https://colab.research.google.com/assets/colab-badge.svg\" alt=\"Open In Colab\"/></a>"
      ]
    },
    {
      "cell_type": "markdown",
      "metadata": {
        "id": "jDL8XoclLuE7",
        "colab_type": "text"
      },
      "source": [
        "# Architectural Highlights of this Iteration\n",
        "1. For the First iteration, building the vanilla architecture, I will go wide until 128 filters but i will try to keep balance in making model wider\n",
        "2. With my experience in EIP, I usually follow an incremental architecture to begin with. With every deeper block I go wider.\n",
        "3. In the first convolution block i have convolution with 16, 32, 64 filters and in the Second convolution block I have 32, 64, 128 filters.\n",
        "4. Moslty I will try to follow the similar architecture design with further iterations, but it might change based on choices to keep the parameters under 15k"
      ]
    },
    {
      "cell_type": "markdown",
      "metadata": {
        "id": "aNyZv-Ec52ot",
        "colab_type": "text"
      },
      "source": [
        "# **Import Libraries and modules**"
      ]
    },
    {
      "cell_type": "code",
      "metadata": {
        "id": "3m3w1Cw49Zkt",
        "colab_type": "code",
        "outputId": "3e2a6f44-3bc1-4a08-d999-95cdb8edd5ae",
        "colab": {
          "base_uri": "https://localhost:8080/",
          "height": 35
        }
      },
      "source": [
        "\n",
        "import keras"
      ],
      "execution_count": 0,
      "outputs": [
        {
          "output_type": "stream",
          "text": [
            "Using TensorFlow backend.\n"
          ],
          "name": "stderr"
        }
      ]
    },
    {
      "cell_type": "code",
      "metadata": {
        "id": "Eso6UHE080D4",
        "colab_type": "code",
        "colab": {}
      },
      "source": [
        "import numpy as np\n",
        "\n",
        "from keras.models import Sequential\n",
        "from keras.layers import Dense, Dropout, Activation, Flatten, Add\n",
        "from keras.layers import Convolution2D, MaxPooling2D\n",
        "from keras.utils import np_utils\n",
        "\n",
        "from keras.datasets import mnist"
      ],
      "execution_count": 0,
      "outputs": []
    },
    {
      "cell_type": "markdown",
      "metadata": {
        "id": "zByEi95J86RD",
        "colab_type": "text"
      },
      "source": [
        "### Load pre-shuffled MNIST data into train and test sets"
      ]
    },
    {
      "cell_type": "code",
      "metadata": {
        "id": "7eRM0QWN83PV",
        "colab_type": "code",
        "outputId": "7af8a0c8-75de-4e60-810a-00ca28f81671",
        "colab": {
          "base_uri": "https://localhost:8080/",
          "height": 52
        }
      },
      "source": [
        "(X_train, y_train), (X_test, y_test) = mnist.load_data()"
      ],
      "execution_count": 0,
      "outputs": [
        {
          "output_type": "stream",
          "text": [
            "Downloading data from https://s3.amazonaws.com/img-datasets/mnist.npz\n",
            "11493376/11490434 [==============================] - 1s 0us/step\n"
          ],
          "name": "stdout"
        }
      ]
    },
    {
      "cell_type": "code",
      "metadata": {
        "id": "4a4Be72j8-ZC",
        "colab_type": "code",
        "outputId": "2fcb7e80-5c07-4564-e947-d75a60efdaa7",
        "colab": {
          "base_uri": "https://localhost:8080/",
          "height": 304
        }
      },
      "source": [
        "print (X_train.shape)\n",
        "from matplotlib import pyplot as plt\n",
        "%matplotlib inline\n",
        "plt.imshow(X_train[2])"
      ],
      "execution_count": 0,
      "outputs": [
        {
          "output_type": "stream",
          "text": [
            "(60000, 28, 28)\n"
          ],
          "name": "stdout"
        },
        {
          "output_type": "execute_result",
          "data": {
            "text/plain": [
              "<matplotlib.image.AxesImage at 0x7f33c4081160>"
            ]
          },
          "metadata": {
            "tags": []
          },
          "execution_count": 6
        },
        {
          "output_type": "display_data",
          "data": {
            "image/png": "[encoded data removed]",
            "text/plain": [
              "<Figure size 432x288 with 1 Axes>"
            ]
          },
          "metadata": {
            "tags": []
          }
        }
      ]
    },
    {
      "cell_type": "code",
      "metadata": {
        "id": "dkmprriw9AnZ",
        "colab_type": "code",
        "colab": {}
      },
      "source": [
        "X_train = X_train.reshape(X_train.shape[0], 28, 28,1)\n",
        "X_test = X_test.reshape(X_test.shape[0], 28, 28,1)"
      ],
      "execution_count": 0,
      "outputs": []
    },
    {
      "cell_type": "code",
      "metadata": {
        "id": "X2m4YS4E9CRh",
        "colab_type": "code",
        "colab": {}
      },
      "source": [
        "X_train = X_train.astype('float32')\n",
        "X_test = X_test.astype('float32')\n",
        "X_train /= 255\n",
        "X_test /= 255"
      ],
      "execution_count": 0,
      "outputs": []
    },
    {
      "cell_type": "code",
      "metadata": {
        "id": "0Mn0vAYD9DvB",
        "colab_type": "code",
        "outputId": "0ee152a2-8e20-4e36-882b-747a1cf6bbfd",
        "colab": {
          "base_uri": "https://localhost:8080/",
          "height": 35
        }
      },
      "source": [
        "y_train[:10]"
      ],
      "execution_count": 0,
      "outputs": [
        {
          "output_type": "execute_result",
          "data": {
            "text/plain": [
              "array([5, 0, 4, 1, 9, 2, 1, 3, 1, 4], dtype=uint8)"
            ]
          },
          "metadata": {
            "tags": []
          },
          "execution_count": 7
        }
      ]
    },
    {
      "cell_type": "code",
      "metadata": {
        "id": "ZG8JiXR39FHC",
        "colab_type": "code",
        "colab": {}
      },
      "source": [
        "# Convert 1-dimensional class arrays to 10-dimensional class matrices\n",
        "Y_train = np_utils.to_categorical(y_train, 10)\n",
        "Y_test = np_utils.to_categorical(y_test, 10)"
      ],
      "execution_count": 0,
      "outputs": []
    },
    {
      "cell_type": "code",
      "metadata": {
        "id": "fYlFRvKS9HMB",
        "colab_type": "code",
        "outputId": "e38125ec-fe4f-41a0-d5a1-fadc47531d23",
        "colab": {
          "base_uri": "https://localhost:8080/",
          "height": 195
        }
      },
      "source": [
        "Y_train[:10]\n"
      ],
      "execution_count": 0,
      "outputs": [
        {
          "output_type": "execute_result",
          "data": {
            "text/plain": [
              "array([[0., 0., 0., 0., 0., 1., 0., 0., 0., 0.],\n",
              "       [1., 0., 0., 0., 0., 0., 0., 0., 0., 0.],\n",
              "       [0., 0., 0., 0., 1., 0., 0., 0., 0., 0.],\n",
              "       [0., 1., 0., 0., 0., 0., 0., 0., 0., 0.],\n",
              "       [0., 0., 0., 0., 0., 0., 0., 0., 0., 1.],\n",
              "       [0., 0., 1., 0., 0., 0., 0., 0., 0., 0.],\n",
              "       [0., 1., 0., 0., 0., 0., 0., 0., 0., 0.],\n",
              "       [0., 0., 0., 1., 0., 0., 0., 0., 0., 0.],\n",
              "       [0., 1., 0., 0., 0., 0., 0., 0., 0., 0.],\n",
              "       [0., 0., 0., 0., 1., 0., 0., 0., 0., 0.]], dtype=float32)"
            ]
          },
          "metadata": {
            "tags": []
          },
          "execution_count": 9
        }
      ]
    },
    {
      "cell_type": "markdown",
      "metadata": {
        "id": "1WTKtmRVlWYS",
        "colab_type": "text"
      },
      "source": [
        "# Building the Architecture\n"
      ]
    },
    {
      "cell_type": "code",
      "metadata": {
        "id": "dGWcXXd6a6vY",
        "colab_type": "code",
        "outputId": "5ea0535c-368f-4e83-d873-266fbb525b77",
        "colab": {
          "base_uri": "https://localhost:8080/",
          "height": 888
        }
      },
      "source": [
        "from keras.models import Model\n",
        "from keras.layers import Input,Conv2D, BatchNormalization,Activation, Flatten\n",
        "\n",
        "input = Input(shape=(28, 28, 1,))\n",
        "\n",
        "#defining convolution block\n",
        "def conv_block(inputs, filters,padding = 'valid'):\n",
        "  conv = Conv2D(filters = filters, kernel_size = (3,3), padding=padding, use_bias=False)(inputs)\n",
        "  conv = Activation('relu')(conv)\n",
        "  return conv\n",
        "\n",
        "#defining transition block\n",
        "def bottleneck(inputs,filters):\n",
        "  conv = Conv2D(filters = filters, kernel_size = (1,1), padding = 'valid', use_bias = False)(inputs)\n",
        "  conv = Activation('relu')(conv)\n",
        "  return MaxPooling2D()(conv)\n",
        "\n",
        "#Building the architecture\n",
        "First_Layer  =  conv_block(input, 16) #26 RF 3x3\n",
        "Second_Layer =  conv_block(First_Layer,32) #24 RF 5x5\n",
        "Third_Layer =  conv_block(Second_Layer,64) #22 RF 5x5\n",
        "Transition_1 =  bottleneck(Third_Layer,32) #11 RF 7x7\n",
        "Fourth_Layer  =  conv_block(Transition_1,32) #9 RF 14x14\n",
        "Fifth_Layer =  conv_block(Fourth_Layer,64)  #7 RF 16x16 \n",
        "Sixth_Layer =  conv_block(Fifth_Layer,128)  #5 RF 18x18 \n",
        "last1x1      =  Conv2D(filters = 10, kernel_size = (1,1), padding = 'valid', use_bias = False)(Sixth_Layer)\n",
        "last1x1      =  Activation('relu')(last1x1)\n",
        "last_layer   =  Conv2D(filters = 10, kernel_size = (5,5), padding = 'valid', use_bias = False)(last1x1)#1, RF 22x22\n",
        "\n",
        "#Flattening and softmax\n",
        "flatten      =  Flatten()(last_layer)\n",
        "output       =  Activation('softmax')(flatten)\n",
        "\n",
        "#creating the model\n",
        "model = Model(inputs=[input], outputs=[output])\n",
        "model.summary()\n"
      ],
      "execution_count": 0,
      "outputs": [
        {
          "output_type": "stream",
          "text": [
            "_________________________________________________________________\n",
            "Layer (type)                 Output Shape              Param #   \n",
            "=================================================================\n",
            "input_2 (InputLayer)         (None, 28, 28, 1)         0         \n",
            "_________________________________________________________________\n",
            "conv2d_10 (Conv2D)           (None, 26, 26, 16)        144       \n",
            "_________________________________________________________________\n",
            "activation_10 (Activation)   (None, 26, 26, 16)        0         \n",
            "_________________________________________________________________\n",
            "conv2d_11 (Conv2D)           (None, 24, 24, 32)        4608      \n",
            "_________________________________________________________________\n",
            "activation_11 (Activation)   (None, 24, 24, 32)        0         \n",
            "_________________________________________________________________\n",
            "conv2d_12 (Conv2D)           (None, 22, 22, 64)        18432     \n",
            "_________________________________________________________________\n",
            "activation_12 (Activation)   (None, 22, 22, 64)        0         \n",
            "_________________________________________________________________\n",
            "conv2d_13 (Conv2D)           (None, 22, 22, 32)        2048      \n",
            "_________________________________________________________________\n",
            "activation_13 (Activation)   (None, 22, 22, 32)        0         \n",
            "_________________________________________________________________\n",
            "max_pooling2d_2 (MaxPooling2 (None, 11, 11, 32)        0         \n",
            "_________________________________________________________________\n",
            "conv2d_14 (Conv2D)           (None, 9, 9, 32)          9216      \n",
            "_________________________________________________________________\n",
            "activation_14 (Activation)   (None, 9, 9, 32)          0         \n",
            "_________________________________________________________________\n",
            "conv2d_15 (Conv2D)           (None, 7, 7, 64)          18432     \n",
            "_________________________________________________________________\n",
            "activation_15 (Activation)   (None, 7, 7, 64)          0         \n",
            "_________________________________________________________________\n",
            "conv2d_16 (Conv2D)           (None, 5, 5, 128)         73728     \n",
            "_________________________________________________________________\n",
            "activation_16 (Activation)   (None, 5, 5, 128)         0         \n",
            "_________________________________________________________________\n",
            "conv2d_17 (Conv2D)           (None, 5, 5, 10)          1280      \n",
            "_________________________________________________________________\n",
            "activation_17 (Activation)   (None, 5, 5, 10)          0         \n",
            "_________________________________________________________________\n",
            "conv2d_18 (Conv2D)           (None, 1, 1, 10)          2500      \n",
            "_________________________________________________________________\n",
            "flatten_2 (Flatten)          (None, 10)                0         \n",
            "_________________________________________________________________\n",
            "activation_18 (Activation)   (None, 10)                0         \n",
            "=================================================================\n",
            "Total params: 130,388\n",
            "Trainable params: 130,388\n",
            "Non-trainable params: 0\n",
            "_________________________________________________________________\n"
          ],
          "name": "stdout"
        }
      ]
    },
    {
      "cell_type": "code",
      "metadata": {
        "id": "Zp6SuGrL9M3h",
        "colab_type": "code",
        "outputId": "435d429f-b857-4bcf-dbc2-3ec3bd35e6b1",
        "colab": {
          "base_uri": "https://localhost:8080/",
          "height": 799
        }
      },
      "source": [
        "from keras.callbacks import *\n",
        "\n",
        "model.compile(loss='categorical_crossentropy',\n",
        "             optimizer='adam',\n",
        "             metrics=['accuracy'])\n",
        "\n",
        "model.fit(X_train, Y_train, validation_data=(X_test, Y_test), nb_epoch = 20, verbose = 1)"
      ],
      "execution_count": 0,
      "outputs": [
        {
          "output_type": "stream",
          "text": [
            "/usr/local/lib/python3.6/dist-packages/ipykernel_launcher.py:7: UserWarning: The `nb_epoch` argument in `fit` has been renamed `epochs`.\n",
            "  import sys\n"
          ],
          "name": "stderr"
        },
        {
          "output_type": "stream",
          "text": [
            "Train on 60000 samples, validate on 10000 samples\n",
            "Epoch 1/20\n",
            "60000/60000 [==============================] - 12s 201us/step - loss: 0.1628 - acc: 0.9487 - val_loss: 0.0589 - val_acc: 0.9813\n",
            "Epoch 2/20\n",
            "60000/60000 [==============================] - 11s 182us/step - loss: 0.0543 - acc: 0.9833 - val_loss: 0.0357 - val_acc: 0.9886\n",
            "Epoch 3/20\n",
            "60000/60000 [==============================] - 10s 173us/step - loss: 0.0415 - acc: 0.9874 - val_loss: 0.0292 - val_acc: 0.9899\n",
            "Epoch 4/20\n",
            "60000/60000 [==============================] - 10s 173us/step - loss: 0.0320 - acc: 0.9902 - val_loss: 0.0313 - val_acc: 0.9904\n",
            "Epoch 5/20\n",
            "60000/60000 [==============================] - 10s 173us/step - loss: 0.0278 - acc: 0.9916 - val_loss: 0.0291 - val_acc: 0.9897\n",
            "Epoch 6/20\n",
            "60000/60000 [==============================] - 10s 173us/step - loss: 0.0222 - acc: 0.9930 - val_loss: 0.0345 - val_acc: 0.9897\n",
            "Epoch 7/20\n",
            "60000/60000 [==============================] - 10s 173us/step - loss: 0.0199 - acc: 0.9939 - val_loss: 0.0311 - val_acc: 0.9899\n",
            "Epoch 8/20\n",
            "60000/60000 [==============================] - 10s 173us/step - loss: 0.0181 - acc: 0.9943 - val_loss: 0.0255 - val_acc: 0.9920\n",
            "Epoch 9/20\n",
            "60000/60000 [==============================] - 11s 179us/step - loss: 0.0150 - acc: 0.9950 - val_loss: 0.0254 - val_acc: 0.9919\n",
            "Epoch 10/20\n",
            "60000/60000 [==============================] - 11s 177us/step - loss: 0.0128 - acc: 0.9961 - val_loss: 0.0312 - val_acc: 0.9904\n",
            "Epoch 11/20\n",
            "60000/60000 [==============================] - 10s 172us/step - loss: 0.0120 - acc: 0.9961 - val_loss: 0.0313 - val_acc: 0.9901\n",
            "Epoch 12/20\n",
            "60000/60000 [==============================] - 10s 172us/step - loss: 0.0108 - acc: 0.9965 - val_loss: 0.0439 - val_acc: 0.9884\n",
            "Epoch 13/20\n",
            "60000/60000 [==============================] - 10s 171us/step - loss: 0.0106 - acc: 0.9969 - val_loss: 0.0409 - val_acc: 0.9882\n",
            "Epoch 14/20\n",
            "60000/60000 [==============================] - 10s 172us/step - loss: 0.0094 - acc: 0.9972 - val_loss: 0.0307 - val_acc: 0.9912\n",
            "Epoch 15/20\n",
            "60000/60000 [==============================] - 10s 170us/step - loss: 0.0087 - acc: 0.9970 - val_loss: 0.0271 - val_acc: 0.9931\n",
            "Epoch 16/20\n",
            "60000/60000 [==============================] - 10s 171us/step - loss: 0.0082 - acc: 0.9977 - val_loss: 0.0356 - val_acc: 0.9897\n",
            "Epoch 17/20\n",
            "60000/60000 [==============================] - 11s 181us/step - loss: 0.0089 - acc: 0.9974 - val_loss: 0.0469 - val_acc: 0.9886\n",
            "Epoch 18/20\n",
            "60000/60000 [==============================] - 10s 173us/step - loss: 0.0074 - acc: 0.9977 - val_loss: 0.0406 - val_acc: 0.9915\n",
            "Epoch 19/20\n",
            "60000/60000 [==============================] - 10s 171us/step - loss: 0.0076 - acc: 0.9978 - val_loss: 0.0259 - val_acc: 0.9932\n",
            "Epoch 20/20\n",
            "60000/60000 [==============================] - 10s 171us/step - loss: 0.0073 - acc: 0.9975 - val_loss: 0.0374 - val_acc: 0.9905\n"
          ],
          "name": "stdout"
        },
        {
          "output_type": "execute_result",
          "data": {
            "text/plain": [
              "<keras.callbacks.History at 0x7f1a50db2400>"
            ]
          },
          "metadata": {
            "tags": []
          },
          "execution_count": 13
        }
      ]
    },
    {
      "cell_type": "code",
      "metadata": {
        "id": "AtsH-lLk-eLb",
        "colab_type": "code",
        "colab": {}
      },
      "source": [
        "from keras.models import load_model\n",
        "#modelPath = '/content/gdrive/My Drive/Colab Notebooks/1stDNNMnist_14thMay.hdf5'\n",
        "#model = load_model(modelPath)\n",
        "\n",
        "score = model.evaluate(X_test, Y_test, verbose=0)"
      ],
      "execution_count": 0,
      "outputs": []
    },
    {
      "cell_type": "code",
      "metadata": {
        "id": "mkX8JMv79q9r",
        "colab_type": "code",
        "outputId": "1d2d0ae8-9cff-4b12-fdc3-90b2b875c8a7",
        "colab": {
          "base_uri": "https://localhost:8080/",
          "height": 35
        }
      },
      "source": [
        "print(score)"
      ],
      "execution_count": 0,
      "outputs": [
        {
          "output_type": "stream",
          "text": [
            "[0.029958125148670297, 0.9909]\n"
          ],
          "name": "stdout"
        }
      ]
    },
    {
      "cell_type": "markdown",
      "metadata": {
        "id": "hBEuKDp7ApXD",
        "colab_type": "text"
      },
      "source": [
        "# Observations\n",
        "1. Got 99.32% validation accuracy, the best score, in the 19th epoch\n",
        "2. Initial epochs underfit, but soon after some epochs we can see signs of overfitting and then the gap keeps increasing further\n",
        "3. The architecture is much more complex than required. We can reduce the number of channels in the convolution blocks in the next iteration and then see if we are able to achieve similar accuracy.\n"
      ]
    }
  ]
}
