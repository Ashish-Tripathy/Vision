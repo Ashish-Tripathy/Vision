{
  "nbformat": 4,
  "nbformat_minor": 0,
  "metadata": {
    "colab": {
      "name": "Asg 4 DNN 3rd Iteration.ipynb",
      "version": "0.3.2",
      "provenance": [],
      "collapsed_sections": [],
      "include_colab_link": true
    },
    "kernelspec": {
      "name": "python3",
      "display_name": "Python 3"
    },
    "accelerator": "GPU"
  },
  "cells": [
    {
      "cell_type": "markdown",
      "metadata": {
        "id": "view-in-github",
        "colab_type": "text"
      },
      "source": [
        "<a href=\"https://colab.research.google.com/github/Ashish-Tripathy/ComputerVision/blob/master/Asg_4_DNN_3rd_Iteration.ipynb\" target=\"_parent\"><img src=\"https://colab.research.google.com/assets/colab-badge.svg\" alt=\"Open In Colab\"/></a>"
      ]
    },
    {
      "cell_type": "markdown",
      "metadata": {
        "id": "jDL8XoclLuE7",
        "colab_type": "text"
      },
      "source": [
        "# Architectural Highlights of this Iteration\n",
        "1. For the 3rd iteration, batch normalisation will be introduced for each convolution layer. Batch normalisation will normalise the features being extracted in the convolution layers.\n",
        "2. To reduce the overfitting even further and to give more room for our model to perform even better, i will also like to introduce a dropout layer before the final 1x1 layer. I will keep the dropout rate = 0.1 as a default to start with.\n"
      ]
    },
    {
      "cell_type": "markdown",
      "metadata": {
        "id": "aNyZv-Ec52ot",
        "colab_type": "text"
      },
      "source": [
        "# **Import Libraries and modules**"
      ]
    },
    {
      "cell_type": "code",
      "metadata": {
        "id": "3m3w1Cw49Zkt",
        "colab_type": "code",
        "colab": {}
      },
      "source": [
        "import keras"
      ],
      "execution_count": 0,
      "outputs": []
    },
    {
      "cell_type": "code",
      "metadata": {
        "id": "Eso6UHE080D4",
        "colab_type": "code",
        "colab": {}
      },
      "source": [
        "import numpy as np\n",
        "\n",
        "from keras.models import Sequential\n",
        "from keras.layers import Dense, Dropout, Activation, Flatten, Add\n",
        "from keras.layers import Convolution2D, MaxPooling2D\n",
        "from keras.utils import np_utils\n",
        "\n",
        "from keras.datasets import mnist"
      ],
      "execution_count": 0,
      "outputs": []
    },
    {
      "cell_type": "markdown",
      "metadata": {
        "id": "zByEi95J86RD",
        "colab_type": "text"
      },
      "source": [
        "### Load pre-shuffled MNIST data into train and test sets"
      ]
    },
    {
      "cell_type": "code",
      "metadata": {
        "id": "7eRM0QWN83PV",
        "colab_type": "code",
        "colab": {}
      },
      "source": [
        "(X_train, y_train), (X_test, y_test) = mnist.load_data()"
      ],
      "execution_count": 0,
      "outputs": []
    },
    {
      "cell_type": "code",
      "metadata": {
        "id": "4a4Be72j8-ZC",
        "colab_type": "code",
        "outputId": "d541ec73-816e-4023-e21e-994f9ebcaab7",
        "colab": {
          "base_uri": "https://localhost:8080/",
          "height": 304
        }
      },
      "source": [
        "print (X_train.shape)\n",
        "from matplotlib import pyplot as plt\n",
        "%matplotlib inline\n",
        "plt.imshow(X_train[2])"
      ],
      "execution_count": 0,
      "outputs": [
        {
          "output_type": "stream",
          "text": [
            "(60000, 28, 28)\n"
          ],
          "name": "stdout"
        },
        {
          "output_type": "execute_result",
          "data": {
            "text/plain": [
              "<matplotlib.image.AxesImage at 0x7f154d2b8b00>"
            ]
          },
          "metadata": {
            "tags": []
          },
          "execution_count": 4
        },
        {
          "output_type": "display_data",
          "data": {
            "image/png": "[encoded data removed]",
            "text/plain": [
              "<Figure size 432x288 with 1 Axes>"
            ]
          },
          "metadata": {
            "tags": []
          }
        }
      ]
    },
    {
      "cell_type": "code",
      "metadata": {
        "id": "dkmprriw9AnZ",
        "colab_type": "code",
        "colab": {}
      },
      "source": [
        "X_train = X_train.reshape(X_train.shape[0], 28, 28,1)\n",
        "X_test = X_test.reshape(X_test.shape[0], 28, 28,1)"
      ],
      "execution_count": 0,
      "outputs": []
    },
    {
      "cell_type": "code",
      "metadata": {
        "id": "X2m4YS4E9CRh",
        "colab_type": "code",
        "colab": {}
      },
      "source": [
        "X_train = X_train.astype('float32')\n",
        "X_test = X_test.astype('float32')\n",
        "X_train /= 255\n",
        "X_test /= 255"
      ],
      "execution_count": 0,
      "outputs": []
    },
    {
      "cell_type": "code",
      "metadata": {
        "id": "0Mn0vAYD9DvB",
        "colab_type": "code",
        "outputId": "ee42014f-a4c9-4f02-da22-bfce63585e14",
        "colab": {
          "base_uri": "https://localhost:8080/",
          "height": 35
        }
      },
      "source": [
        "y_train[:10]"
      ],
      "execution_count": 0,
      "outputs": [
        {
          "output_type": "execute_result",
          "data": {
            "text/plain": [
              "array([5, 0, 4, 1, 9, 2, 1, 3, 1, 4], dtype=uint8)"
            ]
          },
          "metadata": {
            "tags": []
          },
          "execution_count": 12
        }
      ]
    },
    {
      "cell_type": "code",
      "metadata": {
        "id": "ZG8JiXR39FHC",
        "colab_type": "code",
        "colab": {}
      },
      "source": [
        "# Convert 1-dimensional class arrays to 10-dimensional class matrices\n",
        "Y_train = np_utils.to_categorical(y_train, 10)\n",
        "Y_test = np_utils.to_categorical(y_test, 10)"
      ],
      "execution_count": 0,
      "outputs": []
    },
    {
      "cell_type": "code",
      "metadata": {
        "id": "fYlFRvKS9HMB",
        "colab_type": "code",
        "outputId": "cd5f9620-7a9f-4ddb-953c-63d7cbc5993d",
        "colab": {
          "base_uri": "https://localhost:8080/",
          "height": 195
        }
      },
      "source": [
        "Y_train[:10]\n"
      ],
      "execution_count": 0,
      "outputs": [
        {
          "output_type": "execute_result",
          "data": {
            "text/plain": [
              "array([[0., 0., 0., 0., 0., 1., 0., 0., 0., 0.],\n",
              "       [1., 0., 0., 0., 0., 0., 0., 0., 0., 0.],\n",
              "       [0., 0., 0., 0., 1., 0., 0., 0., 0., 0.],\n",
              "       [0., 1., 0., 0., 0., 0., 0., 0., 0., 0.],\n",
              "       [0., 0., 0., 0., 0., 0., 0., 0., 0., 1.],\n",
              "       [0., 0., 1., 0., 0., 0., 0., 0., 0., 0.],\n",
              "       [0., 1., 0., 0., 0., 0., 0., 0., 0., 0.],\n",
              "       [0., 0., 0., 1., 0., 0., 0., 0., 0., 0.],\n",
              "       [0., 1., 0., 0., 0., 0., 0., 0., 0., 0.],\n",
              "       [0., 0., 0., 0., 1., 0., 0., 0., 0., 0.]], dtype=float32)"
            ]
          },
          "metadata": {
            "tags": []
          },
          "execution_count": 14
        }
      ]
    },
    {
      "cell_type": "markdown",
      "metadata": {
        "id": "1WTKtmRVlWYS",
        "colab_type": "text"
      },
      "source": [
        "# Building the Architecture"
      ]
    },
    {
      "cell_type": "code",
      "metadata": {
        "id": "dGWcXXd6a6vY",
        "colab_type": "code",
        "outputId": "5d08b95d-3155-4ec6-b916-24089c6a467b",
        "colab": {
          "base_uri": "https://localhost:8080/",
          "height": 1066
        }
      },
      "source": [
        "from keras.models import Model\n",
        "from keras.layers import Input,Conv2D, BatchNormalization,Activation, Flatten\n",
        "\n",
        "input = Input(shape=(28, 28, 1,))\n",
        "\n",
        "#defining convolution block\n",
        "def conv_block(inputs, filters,padding = 'valid'):\n",
        "  conv = Conv2D(filters = filters, kernel_size = (3,3), padding=padding, use_bias=False)(inputs)\n",
        "  #conv = Dropout(0.1)(conv)\n",
        "  conv = BatchNormalization()(conv)\n",
        "  conv = Activation('relu')(conv)\n",
        "  return conv\n",
        "\n",
        "#defining transition block\n",
        "def bottleneck(inputs,filters):\n",
        "  conv = Conv2D(filters = filters, kernel_size = (1,1), padding = 'valid', use_bias = False)(inputs)\n",
        "  #conv = Dropout(0.1)(conv)\n",
        "  conv = BatchNormalization()(conv)\n",
        "  conv = Activation('relu')(conv)\n",
        "  return MaxPooling2D()(conv)\n",
        "\n",
        "#Building the architecture\n",
        "First_Layer  =  conv_block(input, 8) #26 RF 3x3\n",
        "Second_Layer =  conv_block(First_Layer,12) #24 RF 5x5\n",
        "Third_Layer  =  conv_block(Second_Layer,16) #22 RF 5x5\n",
        "Transition_1 =  bottleneck(Third_Layer,12) #11 RF 7x7\n",
        "Fourth_Layer =  conv_block(Transition_1,16) #9 RF 14x14\n",
        "Fifth_Layer  =  conv_block(Fourth_Layer,32)  #7 RF 16x16 \n",
        "dropout      =  Dropout(0.1)(Fifth_Layer) #dropout\n",
        "last1x1      =  Conv2D(filters = 10, kernel_size = (1,1), padding = 'valid', use_bias = False)(Fifth_Layer)\n",
        "last1x1      =  Activation('relu')(last1x1)\n",
        "last_layer   =  Conv2D(filters = 10, kernel_size = (7,7), padding = 'valid', use_bias = False)(last1x1) #1; RF 22x22\n",
        "last_layer   =  BatchNormalization()(last_layer)\n",
        "\n",
        "flatten      =  Flatten()(last_layer)\n",
        "output       =  Activation('softmax')(flatten)\n",
        "\n",
        "#creating the model\n",
        "model = Model(inputs=[input], outputs=[output])\n",
        "model.summary()\n",
        "\n",
        "\n",
        "\n"
      ],
      "execution_count": 0,
      "outputs": [
        {
          "output_type": "stream",
          "text": [
            "_________________________________________________________________\n",
            "Layer (type)                 Output Shape              Param #   \n",
            "=================================================================\n",
            "input_3 (InputLayer)         (None, 28, 28, 1)         0         \n",
            "_________________________________________________________________\n",
            "conv2d_17 (Conv2D)           (None, 26, 26, 8)         72        \n",
            "_________________________________________________________________\n",
            "batch_normalization_15 (Batc (None, 26, 26, 8)         32        \n",
            "_________________________________________________________________\n",
            "activation_17 (Activation)   (None, 26, 26, 8)         0         \n",
            "_________________________________________________________________\n",
            "conv2d_18 (Conv2D)           (None, 24, 24, 12)        864       \n",
            "_________________________________________________________________\n",
            "batch_normalization_16 (Batc (None, 24, 24, 12)        48        \n",
            "_________________________________________________________________\n",
            "activation_18 (Activation)   (None, 24, 24, 12)        0         \n",
            "_________________________________________________________________\n",
            "conv2d_19 (Conv2D)           (None, 22, 22, 16)        1728      \n",
            "_________________________________________________________________\n",
            "batch_normalization_17 (Batc (None, 22, 22, 16)        64        \n",
            "_________________________________________________________________\n",
            "activation_19 (Activation)   (None, 22, 22, 16)        0         \n",
            "_________________________________________________________________\n",
            "conv2d_20 (Conv2D)           (None, 22, 22, 12)        192       \n",
            "_________________________________________________________________\n",
            "batch_normalization_18 (Batc (None, 22, 22, 12)        48        \n",
            "_________________________________________________________________\n",
            "activation_20 (Activation)   (None, 22, 22, 12)        0         \n",
            "_________________________________________________________________\n",
            "max_pooling2d_3 (MaxPooling2 (None, 11, 11, 12)        0         \n",
            "_________________________________________________________________\n",
            "conv2d_21 (Conv2D)           (None, 9, 9, 16)          1728      \n",
            "_________________________________________________________________\n",
            "batch_normalization_19 (Batc (None, 9, 9, 16)          64        \n",
            "_________________________________________________________________\n",
            "activation_21 (Activation)   (None, 9, 9, 16)          0         \n",
            "_________________________________________________________________\n",
            "conv2d_22 (Conv2D)           (None, 7, 7, 32)          4608      \n",
            "_________________________________________________________________\n",
            "batch_normalization_20 (Batc (None, 7, 7, 32)          128       \n",
            "_________________________________________________________________\n",
            "activation_22 (Activation)   (None, 7, 7, 32)          0         \n",
            "_________________________________________________________________\n",
            "conv2d_23 (Conv2D)           (None, 7, 7, 10)          320       \n",
            "_________________________________________________________________\n",
            "activation_23 (Activation)   (None, 7, 7, 10)          0         \n",
            "_________________________________________________________________\n",
            "conv2d_24 (Conv2D)           (None, 1, 1, 10)          4900      \n",
            "_________________________________________________________________\n",
            "batch_normalization_21 (Batc (None, 1, 1, 10)          40        \n",
            "_________________________________________________________________\n",
            "flatten_3 (Flatten)          (None, 10)                0         \n",
            "_________________________________________________________________\n",
            "activation_24 (Activation)   (None, 10)                0         \n",
            "=================================================================\n",
            "Total params: 14,836\n",
            "Trainable params: 14,624\n",
            "Non-trainable params: 212\n",
            "_________________________________________________________________\n"
          ],
          "name": "stdout"
        }
      ]
    },
    {
      "cell_type": "code",
      "metadata": {
        "id": "Zp6SuGrL9M3h",
        "colab_type": "code",
        "outputId": "747b35c4-ed45-4f2c-a537-76ec5b811f2b",
        "colab": {
          "base_uri": "https://localhost:8080/",
          "height": 799
        }
      },
      "source": [
        "from keras.callbacks import *\n",
        "\n",
        "model.compile(loss='categorical_crossentropy',\n",
        "             optimizer='adam',\n",
        "             metrics=['accuracy'])\n",
        "\n",
        "model.fit(X_train, Y_train, validation_data=(X_test, Y_test), nb_epoch = 20, verbose = 1)"
      ],
      "execution_count": 19,
      "outputs": [
        {
          "output_type": "stream",
          "text": [
            "/usr/local/lib/python3.6/dist-packages/ipykernel_launcher.py:7: UserWarning: The `nb_epoch` argument in `fit` has been renamed `epochs`.\n",
            "  import sys\n"
          ],
          "name": "stderr"
        },
        {
          "output_type": "stream",
          "text": [
            "Train on 60000 samples, validate on 10000 samples\n",
            "Epoch 1/20\n",
            "60000/60000 [==============================] - 19s 322us/step - loss: 0.3802 - acc: 0.9355 - val_loss: 0.1031 - val_acc: 0.9857\n",
            "Epoch 2/20\n",
            "60000/60000 [==============================] - 18s 298us/step - loss: 0.1438 - acc: 0.9725 - val_loss: 0.0546 - val_acc: 0.9894\n",
            "Epoch 3/20\n",
            "60000/60000 [==============================] - 18s 299us/step - loss: 0.0955 - acc: 0.9798 - val_loss: 0.0460 - val_acc: 0.9900\n",
            "Epoch 4/20\n",
            "60000/60000 [==============================] - 19s 316us/step - loss: 0.0755 - acc: 0.9831 - val_loss: 0.0389 - val_acc: 0.9912\n",
            "Epoch 5/20\n",
            "60000/60000 [==============================] - 18s 303us/step - loss: 0.0580 - acc: 0.9868 - val_loss: 0.0346 - val_acc: 0.9907\n",
            "Epoch 6/20\n",
            "60000/60000 [==============================] - 18s 300us/step - loss: 0.0524 - acc: 0.9876 - val_loss: 0.0296 - val_acc: 0.9923\n",
            "Epoch 7/20\n",
            "60000/60000 [==============================] - 21s 349us/step - loss: 0.0446 - acc: 0.9893 - val_loss: 0.0299 - val_acc: 0.9916\n",
            "Epoch 8/20\n",
            "60000/60000 [==============================] - 19s 313us/step - loss: 0.0399 - acc: 0.9902 - val_loss: 0.0309 - val_acc: 0.9902\n",
            "Epoch 9/20\n",
            "60000/60000 [==============================] - 19s 324us/step - loss: 0.0349 - acc: 0.9915 - val_loss: 0.0301 - val_acc: 0.9917\n",
            "Epoch 10/20\n",
            "60000/60000 [==============================] - 20s 336us/step - loss: 0.0333 - acc: 0.9913 - val_loss: 0.0293 - val_acc: 0.9918\n",
            "Epoch 11/20\n",
            "60000/60000 [==============================] - 26s 434us/step - loss: 0.0299 - acc: 0.9927 - val_loss: 0.0282 - val_acc: 0.9917\n",
            "Epoch 12/20\n",
            "60000/60000 [==============================] - 19s 317us/step - loss: 0.0273 - acc: 0.9931 - val_loss: 0.0270 - val_acc: 0.9911\n",
            "Epoch 13/20\n",
            "60000/60000 [==============================] - 18s 303us/step - loss: 0.0250 - acc: 0.9932 - val_loss: 0.0252 - val_acc: 0.9917\n",
            "Epoch 14/20\n",
            "60000/60000 [==============================] - 19s 317us/step - loss: 0.0240 - acc: 0.9936 - val_loss: 0.0273 - val_acc: 0.9919\n",
            "Epoch 15/20\n",
            "60000/60000 [==============================] - 18s 304us/step - loss: 0.0230 - acc: 0.9938 - val_loss: 0.0246 - val_acc: 0.9921\n",
            "Epoch 16/20\n",
            "60000/60000 [==============================] - 18s 307us/step - loss: 0.0206 - acc: 0.9944 - val_loss: 0.0267 - val_acc: 0.9927\n",
            "Epoch 17/20\n",
            "60000/60000 [==============================] - 19s 323us/step - loss: 0.0214 - acc: 0.9943 - val_loss: 0.0232 - val_acc: 0.9933\n",
            "Epoch 18/20\n",
            "60000/60000 [==============================] - 18s 306us/step - loss: 0.0187 - acc: 0.9950 - val_loss: 0.0215 - val_acc: 0.9937\n",
            "Epoch 19/20\n",
            "60000/60000 [==============================] - 18s 304us/step - loss: 0.0188 - acc: 0.9953 - val_loss: 0.0235 - val_acc: 0.9926\n",
            "Epoch 20/20\n",
            "60000/60000 [==============================] - 18s 303us/step - loss: 0.0167 - acc: 0.9955 - val_loss: 0.0268 - val_acc: 0.9922\n"
          ],
          "name": "stdout"
        },
        {
          "output_type": "execute_result",
          "data": {
            "text/plain": [
              "<keras.callbacks.History at 0x7fec1721ccc0>"
            ]
          },
          "metadata": {
            "tags": []
          },
          "execution_count": 19
        }
      ]
    },
    {
      "cell_type": "markdown",
      "metadata": {
        "id": "hBEuKDp7ApXD",
        "colab_type": "text"
      },
      "source": [
        "# Observations\n",
        "1. <b>Best Validation Accuracy: 99.37% at 18th Epoch; Parameters: 14.8K; </b>\n",
        "2. With the changes in this iteration we are able to achieve much better accuracy with almost the same number of parameters. Some extra parameters are added due to batch normalisations\n",
        "3. The time per epoch increases a little compared to initial iterations due to extra operation of normalising after each convolution\n",
        "4. The dropout increases underfitting even more for initial layers and as training accuracy increases we see the model generalises even better helping us to achieve much better accuracy. If run for more epochs we would have achieved the required accuracy. We will aim to achieve better accuracy within lesser epochs in the next iteration\n",
        "\n"
      ]
    }
  ]
}
