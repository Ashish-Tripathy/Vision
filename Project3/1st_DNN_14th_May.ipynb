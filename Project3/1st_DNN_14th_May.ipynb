{
  "nbformat": 4,
  "nbformat_minor": 0,
  "metadata": {
    "colab": {
      "name": "1st DNN 14th May.ipynb",
      "version": "0.3.2",
      "provenance": [],
      "collapsed_sections": [],
      "include_colab_link": true
    },
    "kernelspec": {
      "name": "python3",
      "display_name": "Python 3"
    },
    "accelerator": "GPU"
  },
  "cells": [
    {
      "cell_type": "markdown",
      "metadata": {
        "id": "view-in-github",
        "colab_type": "text"
      },
      "source": [
        "<a href=\"https://colab.research.google.com/github/Ashish-Tripathy/ComputerVision/blob/master/1st_DNN_14th_May.ipynb\" target=\"_parent\"><img src=\"https://colab.research.google.com/assets/colab-badge.svg\" alt=\"Open In Colab\"/></a>"
      ]
    },
    {
      "cell_type": "markdown",
      "metadata": {
        "id": "aNyZv-Ec52ot",
        "colab_type": "text"
      },
      "source": [
        "# **Import Libraries and modules**"
      ]
    },
    {
      "cell_type": "code",
      "metadata": {
        "id": "3m3w1Cw49Zkt",
        "colab_type": "code",
        "outputId": "8889e64b-8068-4968-cc2a-586333d9f5ed",
        "colab": {
          "base_uri": "https://localhost:8080/",
          "height": 35
        }
      },
      "source": [
        "\n",
        "import keras"
      ],
      "execution_count": 1,
      "outputs": [
        {
          "output_type": "stream",
          "text": [
            "Using TensorFlow backend.\n"
          ],
          "name": "stderr"
        }
      ]
    },
    {
      "cell_type": "code",
      "metadata": {
        "id": "Eso6UHE080D4",
        "colab_type": "code",
        "colab": {}
      },
      "source": [
        "import numpy as np\n",
        "\n",
        "from keras.models import Sequential\n",
        "from keras.layers import Dense, Dropout, Activation, Flatten, Add\n",
        "from keras.layers import Convolution2D, MaxPooling2D\n",
        "from keras.utils import np_utils\n",
        "\n",
        "from keras.datasets import mnist\n",
        "\n",
        "from keras.models import Model\n",
        "from keras.layers import Input,Conv2D, BatchNormalization,Activation, Flatten\n",
        "from keras.callbacks import *\n"
      ],
      "execution_count": 0,
      "outputs": []
    },
    {
      "cell_type": "code",
      "metadata": {
        "id": "f3khGvR2JHiE",
        "colab_type": "code",
        "outputId": "ade82f9b-04c7-4cb1-d522-55116a8b81ff",
        "colab": {
          "base_uri": "https://localhost:8080/",
          "height": 126
        }
      },
      "source": [
        "from google.colab import drive\n",
        "drive.mount('/content/gdrive')"
      ],
      "execution_count": 12,
      "outputs": [
        {
          "output_type": "stream",
          "text": [
            "Go to this URL in a browser: https://accounts.google.com/o/oauth2/auth?client_id=947318989803-6bn6qk8qdgf4n4g3pfee6491hc0brc4i.apps.googleusercontent.com&redirect_uri=urn%3Aietf%3Awg%3Aoauth%3A2.0%3Aoob&scope=email%20https%3A%2F%2Fwww.googleapis.com%2Fauth%2Fdocs.test%20https%3A%2F%2Fwww.googleapis.com%2Fauth%2Fdrive%20https%3A%2F%2Fwww.googleapis.com%2Fauth%2Fdrive.photos.readonly%20https%3A%2F%2Fwww.googleapis.com%2Fauth%2Fpeopleapi.readonly&response_type=code\n",
            "\n",
            "Enter your authorization code:\n",
            "··········\n",
            "Mounted at /content/gdrive\n"
          ],
          "name": "stdout"
        }
      ]
    },
    {
      "cell_type": "markdown",
      "metadata": {
        "id": "zByEi95J86RD",
        "colab_type": "text"
      },
      "source": [
        "### Load pre-shuffled MNIST data into train and test sets"
      ]
    },
    {
      "cell_type": "code",
      "metadata": {
        "id": "7eRM0QWN83PV",
        "colab_type": "code",
        "outputId": "761655af-38ec-427a-97ad-2fd1a6e68cbd",
        "colab": {
          "base_uri": "https://localhost:8080/",
          "height": 52
        }
      },
      "source": [
        "(X_train, y_train), (X_test, y_test) = mnist.load_data()"
      ],
      "execution_count": 4,
      "outputs": [
        {
          "output_type": "stream",
          "text": [
            "Downloading data from https://s3.amazonaws.com/img-datasets/mnist.npz\n",
            "11493376/11490434 [==============================] - 0s 0us/step\n"
          ],
          "name": "stdout"
        }
      ]
    },
    {
      "cell_type": "code",
      "metadata": {
        "id": "4a4Be72j8-ZC",
        "colab_type": "code",
        "outputId": "641b42f7-e3d2-4e7c-b4b8-9e69e558ab10",
        "colab": {
          "base_uri": "https://localhost:8080/",
          "height": 304
        }
      },
      "source": [
        "print (X_train.shape)\n",
        "from matplotlib import pyplot as plt\n",
        "%matplotlib inline\n",
        "plt.imshow(X_train[0])"
      ],
      "execution_count": 5,
      "outputs": [
        {
          "output_type": "stream",
          "text": [
            "(60000, 28, 28)\n"
          ],
          "name": "stdout"
        },
        {
          "output_type": "execute_result",
          "data": {
            "text/plain": [
              "<matplotlib.image.AxesImage at 0x7fc3d119bda0>"
            ]
          },
          "metadata": {
            "tags": []
          },
          "execution_count": 5
        },
        {
          "output_type": "display_data",
          "data": {
            "image/png": "[encoded data removed]",
            "text/plain": [
              "<Figure size 432x288 with 1 Axes>"
            ]
          },
          "metadata": {
            "tags": []
          }
        }
      ]
    },
    {
      "cell_type": "code",
      "metadata": {
        "id": "dkmprriw9AnZ",
        "colab_type": "code",
        "colab": {}
      },
      "source": [
        "X_train = X_train.reshape(X_train.shape[0], 28, 28,1)\n",
        "X_test = X_test.reshape(X_test.shape[0], 28, 28,1)"
      ],
      "execution_count": 0,
      "outputs": []
    },
    {
      "cell_type": "code",
      "metadata": {
        "id": "X2m4YS4E9CRh",
        "colab_type": "code",
        "colab": {}
      },
      "source": [
        "X_train = X_train.astype('float32')\n",
        "X_test = X_test.astype('float32')\n",
        "X_train /= 255\n",
        "X_test /= 255"
      ],
      "execution_count": 0,
      "outputs": []
    },
    {
      "cell_type": "code",
      "metadata": {
        "id": "0Mn0vAYD9DvB",
        "colab_type": "code",
        "outputId": "23af47f4-6a15-4b8f-8be7-1d3fc59fc29c",
        "colab": {
          "base_uri": "https://localhost:8080/",
          "height": 35
        }
      },
      "source": [
        "y_train[:10]"
      ],
      "execution_count": 8,
      "outputs": [
        {
          "output_type": "execute_result",
          "data": {
            "text/plain": [
              "array([5, 0, 4, 1, 9, 2, 1, 3, 1, 4], dtype=uint8)"
            ]
          },
          "metadata": {
            "tags": []
          },
          "execution_count": 8
        }
      ]
    },
    {
      "cell_type": "code",
      "metadata": {
        "id": "ZG8JiXR39FHC",
        "colab_type": "code",
        "colab": {}
      },
      "source": [
        "# Convert 1-dimensional class arrays to 10-dimensional class matrices\n",
        "Y_train = np_utils.to_categorical(y_train, 10)\n",
        "Y_test = np_utils.to_categorical(y_test, 10)"
      ],
      "execution_count": 0,
      "outputs": []
    },
    {
      "cell_type": "code",
      "metadata": {
        "id": "fYlFRvKS9HMB",
        "colab_type": "code",
        "outputId": "ab6c43da-4f94-4635-d949-6d5e7172e642",
        "colab": {
          "base_uri": "https://localhost:8080/",
          "height": 195
        }
      },
      "source": [
        "Y_train[:10]\n"
      ],
      "execution_count": 10,
      "outputs": [
        {
          "output_type": "execute_result",
          "data": {
            "text/plain": [
              "array([[0., 0., 0., 0., 0., 1., 0., 0., 0., 0.],\n",
              "       [1., 0., 0., 0., 0., 0., 0., 0., 0., 0.],\n",
              "       [0., 0., 0., 0., 1., 0., 0., 0., 0., 0.],\n",
              "       [0., 1., 0., 0., 0., 0., 0., 0., 0., 0.],\n",
              "       [0., 0., 0., 0., 0., 0., 0., 0., 0., 1.],\n",
              "       [0., 0., 1., 0., 0., 0., 0., 0., 0., 0.],\n",
              "       [0., 1., 0., 0., 0., 0., 0., 0., 0., 0.],\n",
              "       [0., 0., 0., 1., 0., 0., 0., 0., 0., 0.],\n",
              "       [0., 1., 0., 0., 0., 0., 0., 0., 0., 0.],\n",
              "       [0., 0., 0., 0., 1., 0., 0., 0., 0., 0.]], dtype=float32)"
            ]
          },
          "metadata": {
            "tags": []
          },
          "execution_count": 10
        }
      ]
    },
    {
      "cell_type": "markdown",
      "metadata": {
        "id": "FMozzyFD9W92",
        "colab_type": "text"
      },
      "source": [
        "# Building the Model Architecture"
      ]
    },
    {
      "cell_type": "code",
      "metadata": {
        "id": "dGWcXXd6a6vY",
        "colab_type": "code",
        "outputId": "15daa285-50b2-45db-8581-18d844d17815",
        "colab": {
          "base_uri": "https://localhost:8080/",
          "height": 1512
        }
      },
      "source": [
        "\n",
        "input = Input(shape=(28, 28, 1,))\n",
        "\n",
        "#defining convolution block\n",
        "def conv_block(inputs, filters,padding = 'valid'):\n",
        "  conv = Conv2D(filters = filters, kernel_size = (3,3), padding=padding, use_bias=False)(inputs)\n",
        "  conv = Dropout(0.2)(conv)\n",
        "  conv = BatchNormalization()(conv)\n",
        "  conv = Activation('relu')(conv)\n",
        "  return conv\n",
        "\n",
        "#defining transition block\n",
        "def bottleneck(inputs,filters):\n",
        "  conv = Conv2D(filters = filters, kernel_size = (1,1), padding = 'valid', use_bias = False)(inputs)\n",
        "  conv = Dropout(0.2)(conv)\n",
        "  conv = BatchNormalization()(conv)\n",
        "  conv = Activation('relu')(conv)\n",
        "  return MaxPooling2D()(conv)\n",
        "\n",
        "#Building the architecture\n",
        "First_Layer  =  conv_block(input, 16) #26\n",
        "Second_Layer =  conv_block(First_Layer,32) #24\n",
        "Transition_1 =  bottleneck(Second_Layer,16) #12\n",
        "Third_Layer  =  conv_block(Transition_1,16) #10\n",
        "Fourth_Layer =  conv_block(Third_Layer,32)  #8\n",
        "Transition_2 =  bottleneck(Fourth_Layer,16) #4\n",
        "Fifth_Layer  =  conv_block(Transition_2,32) #2\n",
        "last_layer   =  Conv2D(filters = 10, kernel_size = (2,2), padding = 'valid', use_bias = False)(Fifth_Layer)\n",
        "last_layer   =  BatchNormalization()(last_layer)\n",
        "flatten      =  Flatten()(last_layer)\n",
        "output       =  Activation('softmax')(flatten)\n",
        "\n",
        "#creating the model\n",
        "model = Model(inputs=[input], outputs=[output])\n",
        "model.summary()\n",
        "\n",
        "\n",
        "\n"
      ],
      "execution_count": 11,
      "outputs": [
        {
          "output_type": "stream",
          "text": [
            "WARNING:tensorflow:From /usr/local/lib/python3.6/dist-packages/tensorflow/python/framework/op_def_library.py:263: colocate_with (from tensorflow.python.framework.ops) is deprecated and will be removed in a future version.\n",
            "Instructions for updating:\n",
            "Colocations handled automatically by placer.\n",
            "WARNING:tensorflow:From /usr/local/lib/python3.6/dist-packages/keras/backend/tensorflow_backend.py:3445: calling dropout (from tensorflow.python.ops.nn_ops) with keep_prob is deprecated and will be removed in a future version.\n",
            "Instructions for updating:\n",
            "Please use `rate` instead of `keep_prob`. Rate should be set to `rate = 1 - keep_prob`.\n",
            "_________________________________________________________________\n",
            "Layer (type)                 Output Shape              Param #   \n",
            "=================================================================\n",
            "input_1 (InputLayer)         (None, 28, 28, 1)         0         \n",
            "_________________________________________________________________\n",
            "conv2d_1 (Conv2D)            (None, 26, 26, 16)        144       \n",
            "_________________________________________________________________\n",
            "dropout_1 (Dropout)          (None, 26, 26, 16)        0         \n",
            "_________________________________________________________________\n",
            "batch_normalization_1 (Batch (None, 26, 26, 16)        64        \n",
            "_________________________________________________________________\n",
            "activation_1 (Activation)    (None, 26, 26, 16)        0         \n",
            "_________________________________________________________________\n",
            "conv2d_2 (Conv2D)            (None, 24, 24, 32)        4608      \n",
            "_________________________________________________________________\n",
            "dropout_2 (Dropout)          (None, 24, 24, 32)        0         \n",
            "_________________________________________________________________\n",
            "batch_normalization_2 (Batch (None, 24, 24, 32)        128       \n",
            "_________________________________________________________________\n",
            "activation_2 (Activation)    (None, 24, 24, 32)        0         \n",
            "_________________________________________________________________\n",
            "conv2d_3 (Conv2D)            (None, 24, 24, 16)        512       \n",
            "_________________________________________________________________\n",
            "dropout_3 (Dropout)          (None, 24, 24, 16)        0         \n",
            "_________________________________________________________________\n",
            "batch_normalization_3 (Batch (None, 24, 24, 16)        64        \n",
            "_________________________________________________________________\n",
            "activation_3 (Activation)    (None, 24, 24, 16)        0         \n",
            "_________________________________________________________________\n",
            "max_pooling2d_1 (MaxPooling2 (None, 12, 12, 16)        0         \n",
            "_________________________________________________________________\n",
            "conv2d_4 (Conv2D)            (None, 10, 10, 16)        2304      \n",
            "_________________________________________________________________\n",
            "dropout_4 (Dropout)          (None, 10, 10, 16)        0         \n",
            "_________________________________________________________________\n",
            "batch_normalization_4 (Batch (None, 10, 10, 16)        64        \n",
            "_________________________________________________________________\n",
            "activation_4 (Activation)    (None, 10, 10, 16)        0         \n",
            "_________________________________________________________________\n",
            "conv2d_5 (Conv2D)            (None, 8, 8, 32)          4608      \n",
            "_________________________________________________________________\n",
            "dropout_5 (Dropout)          (None, 8, 8, 32)          0         \n",
            "_________________________________________________________________\n",
            "batch_normalization_5 (Batch (None, 8, 8, 32)          128       \n",
            "_________________________________________________________________\n",
            "activation_5 (Activation)    (None, 8, 8, 32)          0         \n",
            "_________________________________________________________________\n",
            "conv2d_6 (Conv2D)            (None, 8, 8, 16)          512       \n",
            "_________________________________________________________________\n",
            "dropout_6 (Dropout)          (None, 8, 8, 16)          0         \n",
            "_________________________________________________________________\n",
            "batch_normalization_6 (Batch (None, 8, 8, 16)          64        \n",
            "_________________________________________________________________\n",
            "activation_6 (Activation)    (None, 8, 8, 16)          0         \n",
            "_________________________________________________________________\n",
            "max_pooling2d_2 (MaxPooling2 (None, 4, 4, 16)          0         \n",
            "_________________________________________________________________\n",
            "conv2d_7 (Conv2D)            (None, 2, 2, 32)          4608      \n",
            "_________________________________________________________________\n",
            "dropout_7 (Dropout)          (None, 2, 2, 32)          0         \n",
            "_________________________________________________________________\n",
            "batch_normalization_7 (Batch (None, 2, 2, 32)          128       \n",
            "_________________________________________________________________\n",
            "activation_7 (Activation)    (None, 2, 2, 32)          0         \n",
            "_________________________________________________________________\n",
            "conv2d_8 (Conv2D)            (None, 1, 1, 10)          1280      \n",
            "_________________________________________________________________\n",
            "batch_normalization_8 (Batch (None, 1, 1, 10)          40        \n",
            "_________________________________________________________________\n",
            "flatten_1 (Flatten)          (None, 10)                0         \n",
            "_________________________________________________________________\n",
            "activation_8 (Activation)    (None, 10)                0         \n",
            "=================================================================\n",
            "Total params: 19,256\n",
            "Trainable params: 18,916\n",
            "Non-trainable params: 340\n",
            "_________________________________________________________________\n"
          ],
          "name": "stdout"
        }
      ]
    },
    {
      "cell_type": "markdown",
      "metadata": {
        "id": "kBhyrZKe9ssF",
        "colab_type": "text"
      },
      "source": [
        "# Compiling and Fitting the Model"
      ]
    },
    {
      "cell_type": "code",
      "metadata": {
        "id": "Zp6SuGrL9M3h",
        "colab_type": "code",
        "outputId": "61bfddd9-7d39-494e-c4ca-34488dd5ae12",
        "colab": {
          "base_uri": "https://localhost:8080/",
          "height": 7199
        }
      },
      "source": [
        "filepath=\"/content/gdrive/My Drive/Colab Notebooks/EVA/Models/1stDNNMnist_14thMay:{epoch:03d}-val_acc:{val_acc:.3f}.hdf5\"\n",
        "checkpoint = ModelCheckpoint(filepath, monitor='val_acc', verbose=1, save_best_only=True,save_weights_only=False, mode='auto')\n",
        "\n",
        "model.compile(loss='categorical_crossentropy',\n",
        "             optimizer='adam',\n",
        "             metrics=['accuracy'])\n",
        "callbacks_list = [checkpoint]\n",
        "\n",
        "model.fit(X_train, Y_train, validation_data=(X_test, Y_test), nb_epoch = 100, verbose = 1, callbacks = callbacks_list)"
      ],
      "execution_count": 14,
      "outputs": [
        {
          "output_type": "stream",
          "text": [
            "/usr/local/lib/python3.6/dist-packages/ipykernel_launcher.py:9: UserWarning: The `nb_epoch` argument in `fit` has been renamed `epochs`.\n",
            "  if __name__ == '__main__':\n"
          ],
          "name": "stderr"
        },
        {
          "output_type": "stream",
          "text": [
            "Train on 60000 samples, validate on 10000 samples\n",
            "Epoch 1/100\n",
            "60000/60000 [==============================] - 22s 374us/step - loss: 0.1982 - acc: 0.9547 - val_loss: 0.0665 - val_acc: 0.9840\n",
            "\n",
            "Epoch 00001: val_acc improved from -inf to 0.98400, saving model to /content/gdrive/My Drive/Colab Notebooks/EVA/Models/1stDNNMnist_14thMay:001-val_acc:0.984.hdf5\n",
            "Epoch 2/100\n",
            "60000/60000 [==============================] - 22s 369us/step - loss: 0.1379 - acc: 0.9654 - val_loss: 0.0471 - val_acc: 0.9887\n",
            "\n",
            "Epoch 00002: val_acc improved from 0.98400 to 0.98870, saving model to /content/gdrive/My Drive/Colab Notebooks/EVA/Models/1stDNNMnist_14thMay:002-val_acc:0.989.hdf5\n",
            "Epoch 3/100\n",
            "60000/60000 [==============================] - 23s 377us/step - loss: 0.1102 - acc: 0.9726 - val_loss: 0.0437 - val_acc: 0.9886\n",
            "\n",
            "Epoch 00003: val_acc did not improve from 0.98870\n",
            "Epoch 4/100\n",
            "60000/60000 [==============================] - 21s 354us/step - loss: 0.0910 - acc: 0.9761 - val_loss: 0.0402 - val_acc: 0.9890\n",
            "\n",
            "Epoch 00004: val_acc improved from 0.98870 to 0.98900, saving model to /content/gdrive/My Drive/Colab Notebooks/EVA/Models/1stDNNMnist_14thMay:004-val_acc:0.989.hdf5\n",
            "Epoch 5/100\n",
            "60000/60000 [==============================] - 21s 355us/step - loss: 0.0869 - acc: 0.9768 - val_loss: 0.0331 - val_acc: 0.9897\n",
            "\n",
            "Epoch 00005: val_acc improved from 0.98900 to 0.98970, saving model to /content/gdrive/My Drive/Colab Notebooks/EVA/Models/1stDNNMnist_14thMay:005-val_acc:0.990.hdf5\n",
            "Epoch 6/100\n",
            "60000/60000 [==============================] - 21s 355us/step - loss: 0.0751 - acc: 0.9801 - val_loss: 0.0294 - val_acc: 0.9914\n",
            "\n",
            "Epoch 00006: val_acc improved from 0.98970 to 0.99140, saving model to /content/gdrive/My Drive/Colab Notebooks/EVA/Models/1stDNNMnist_14thMay:006-val_acc:0.991.hdf5\n",
            "Epoch 7/100\n",
            "60000/60000 [==============================] - 23s 377us/step - loss: 0.0683 - acc: 0.9813 - val_loss: 0.0269 - val_acc: 0.9921\n",
            "\n",
            "Epoch 00007: val_acc improved from 0.99140 to 0.99210, saving model to /content/gdrive/My Drive/Colab Notebooks/EVA/Models/1stDNNMnist_14thMay:007-val_acc:0.992.hdf5\n",
            "Epoch 8/100\n",
            "60000/60000 [==============================] - 21s 355us/step - loss: 0.0652 - acc: 0.9821 - val_loss: 0.0259 - val_acc: 0.9930\n",
            "\n",
            "Epoch 00008: val_acc improved from 0.99210 to 0.99300, saving model to /content/gdrive/My Drive/Colab Notebooks/EVA/Models/1stDNNMnist_14thMay:008-val_acc:0.993.hdf5\n",
            "Epoch 9/100\n",
            "60000/60000 [==============================] - 21s 354us/step - loss: 0.0630 - acc: 0.9822 - val_loss: 0.0252 - val_acc: 0.9927\n",
            "\n",
            "Epoch 00009: val_acc did not improve from 0.99300\n",
            "Epoch 10/100\n",
            "60000/60000 [==============================] - 22s 367us/step - loss: 0.0593 - acc: 0.9839 - val_loss: 0.0261 - val_acc: 0.9917\n",
            "\n",
            "Epoch 00010: val_acc did not improve from 0.99300\n",
            "Epoch 11/100\n",
            "60000/60000 [==============================] - 22s 362us/step - loss: 0.0572 - acc: 0.9842 - val_loss: 0.0225 - val_acc: 0.9935\n",
            "\n",
            "Epoch 00011: val_acc improved from 0.99300 to 0.99350, saving model to /content/gdrive/My Drive/Colab Notebooks/EVA/Models/1stDNNMnist_14thMay:011-val_acc:0.994.hdf5\n",
            "Epoch 12/100\n",
            "60000/60000 [==============================] - 23s 382us/step - loss: 0.0565 - acc: 0.9837 - val_loss: 0.0251 - val_acc: 0.9921\n",
            "\n",
            "Epoch 00012: val_acc did not improve from 0.99350\n",
            "Epoch 13/100\n",
            "60000/60000 [==============================] - 21s 354us/step - loss: 0.0519 - acc: 0.9849 - val_loss: 0.0243 - val_acc: 0.9936\n",
            "\n",
            "Epoch 00013: val_acc improved from 0.99350 to 0.99360, saving model to /content/gdrive/My Drive/Colab Notebooks/EVA/Models/1stDNNMnist_14thMay:013-val_acc:0.994.hdf5\n",
            "Epoch 14/100\n",
            "60000/60000 [==============================] - 23s 375us/step - loss: 0.0518 - acc: 0.9854 - val_loss: 0.0222 - val_acc: 0.9937\n",
            "\n",
            "Epoch 00014: val_acc improved from 0.99360 to 0.99370, saving model to /content/gdrive/My Drive/Colab Notebooks/EVA/Models/1stDNNMnist_14thMay:014-val_acc:0.994.hdf5\n",
            "Epoch 15/100\n",
            "60000/60000 [==============================] - 21s 354us/step - loss: 0.0490 - acc: 0.9858 - val_loss: 0.0223 - val_acc: 0.9927\n",
            "\n",
            "Epoch 00015: val_acc did not improve from 0.99370\n",
            "Epoch 16/100\n",
            "60000/60000 [==============================] - 22s 367us/step - loss: 0.0486 - acc: 0.9857 - val_loss: 0.0189 - val_acc: 0.9950\n",
            "\n",
            "Epoch 00016: val_acc improved from 0.99370 to 0.99500, saving model to /content/gdrive/My Drive/Colab Notebooks/EVA/Models/1stDNNMnist_14thMay:016-val_acc:0.995.hdf5\n",
            "Epoch 17/100\n",
            "60000/60000 [==============================] - 21s 354us/step - loss: 0.0482 - acc: 0.9863 - val_loss: 0.0214 - val_acc: 0.9939\n",
            "\n",
            "Epoch 00017: val_acc did not improve from 0.99500\n",
            "Epoch 18/100\n",
            "60000/60000 [==============================] - 23s 376us/step - loss: 0.0480 - acc: 0.9862 - val_loss: 0.0181 - val_acc: 0.9950\n",
            "\n",
            "Epoch 00018: val_acc did not improve from 0.99500\n",
            "Epoch 19/100\n",
            "60000/60000 [==============================] - 21s 355us/step - loss: 0.0460 - acc: 0.9869 - val_loss: 0.0241 - val_acc: 0.9923\n",
            "\n",
            "Epoch 00019: val_acc did not improve from 0.99500\n",
            "Epoch 20/100\n",
            "60000/60000 [==============================] - 21s 354us/step - loss: 0.0436 - acc: 0.9871 - val_loss: 0.0222 - val_acc: 0.9933\n",
            "\n",
            "Epoch 00020: val_acc did not improve from 0.99500\n",
            "Epoch 21/100\n",
            "60000/60000 [==============================] - 22s 366us/step - loss: 0.0455 - acc: 0.9867 - val_loss: 0.0200 - val_acc: 0.9932\n",
            "\n",
            "Epoch 00021: val_acc did not improve from 0.99500\n",
            "Epoch 22/100\n",
            "60000/60000 [==============================] - 22s 364us/step - loss: 0.0449 - acc: 0.9871 - val_loss: 0.0195 - val_acc: 0.9938\n",
            "\n",
            "Epoch 00022: val_acc did not improve from 0.99500\n",
            "Epoch 23/100\n",
            "60000/60000 [==============================] - 21s 353us/step - loss: 0.0431 - acc: 0.9871 - val_loss: 0.0199 - val_acc: 0.9937\n",
            "\n",
            "Epoch 00023: val_acc did not improve from 0.99500\n",
            "Epoch 24/100\n",
            "60000/60000 [==============================] - 21s 353us/step - loss: 0.0413 - acc: 0.9881 - val_loss: 0.0199 - val_acc: 0.9944\n",
            "\n",
            "Epoch 00024: val_acc did not improve from 0.99500\n",
            "Epoch 25/100\n",
            "60000/60000 [==============================] - 23s 375us/step - loss: 0.0421 - acc: 0.9878 - val_loss: 0.0204 - val_acc: 0.9931\n",
            "\n",
            "Epoch 00025: val_acc did not improve from 0.99500\n",
            "Epoch 26/100\n",
            "60000/60000 [==============================] - 23s 376us/step - loss: 0.0401 - acc: 0.9878 - val_loss: 0.0213 - val_acc: 0.9936\n",
            "\n",
            "Epoch 00026: val_acc did not improve from 0.99500\n",
            "Epoch 27/100\n",
            "60000/60000 [==============================] - 21s 358us/step - loss: 0.0379 - acc: 0.9890 - val_loss: 0.0182 - val_acc: 0.9945\n",
            "\n",
            "Epoch 00027: val_acc did not improve from 0.99500\n",
            "Epoch 28/100\n",
            "60000/60000 [==============================] - 21s 353us/step - loss: 0.0400 - acc: 0.9877 - val_loss: 0.0189 - val_acc: 0.9943\n",
            "\n",
            "Epoch 00028: val_acc did not improve from 0.99500\n",
            "Epoch 29/100\n",
            "60000/60000 [==============================] - 22s 375us/step - loss: 0.0393 - acc: 0.9887 - val_loss: 0.0184 - val_acc: 0.9946\n",
            "\n",
            "Epoch 00029: val_acc did not improve from 0.99500\n",
            "Epoch 30/100\n",
            "60000/60000 [==============================] - 22s 365us/step - loss: 0.0403 - acc: 0.9883 - val_loss: 0.0197 - val_acc: 0.9939\n",
            "\n",
            "Epoch 00030: val_acc did not improve from 0.99500\n",
            "Epoch 31/100\n",
            "60000/60000 [==============================] - 21s 352us/step - loss: 0.0376 - acc: 0.9888 - val_loss: 0.0194 - val_acc: 0.9943\n",
            "\n",
            "Epoch 00031: val_acc did not improve from 0.99500\n",
            "Epoch 32/100\n",
            "60000/60000 [==============================] - 22s 360us/step - loss: 0.0386 - acc: 0.9888 - val_loss: 0.0190 - val_acc: 0.9946\n",
            "\n",
            "Epoch 00032: val_acc did not improve from 0.99500\n",
            "Epoch 33/100\n",
            "60000/60000 [==============================] - 22s 367us/step - loss: 0.0383 - acc: 0.9888 - val_loss: 0.0202 - val_acc: 0.9941\n",
            "\n",
            "Epoch 00033: val_acc did not improve from 0.99500\n",
            "Epoch 34/100\n",
            "60000/60000 [==============================] - 21s 353us/step - loss: 0.0347 - acc: 0.9895 - val_loss: 0.0194 - val_acc: 0.9940\n",
            "\n",
            "Epoch 00034: val_acc did not improve from 0.99500\n",
            "Epoch 35/100\n",
            "60000/60000 [==============================] - 21s 354us/step - loss: 0.0375 - acc: 0.9888 - val_loss: 0.0187 - val_acc: 0.9945\n",
            "\n",
            "Epoch 00035: val_acc did not improve from 0.99500\n",
            "Epoch 36/100\n",
            "60000/60000 [==============================] - 23s 376us/step - loss: 0.0378 - acc: 0.9885 - val_loss: 0.0187 - val_acc: 0.9946\n",
            "\n",
            "Epoch 00036: val_acc did not improve from 0.99500\n",
            "Epoch 37/100\n",
            "60000/60000 [==============================] - 21s 353us/step - loss: 0.0352 - acc: 0.9893 - val_loss: 0.0195 - val_acc: 0.9944\n",
            "\n",
            "Epoch 00037: val_acc did not improve from 0.99500\n",
            "Epoch 38/100\n",
            "60000/60000 [==============================] - 21s 353us/step - loss: 0.0343 - acc: 0.9897 - val_loss: 0.0180 - val_acc: 0.9942\n",
            "\n",
            "Epoch 00038: val_acc did not improve from 0.99500\n",
            "Epoch 39/100\n",
            "60000/60000 [==============================] - 21s 355us/step - loss: 0.0356 - acc: 0.9892 - val_loss: 0.0175 - val_acc: 0.9953\n",
            "\n",
            "Epoch 00039: val_acc improved from 0.99500 to 0.99530, saving model to /content/gdrive/My Drive/Colab Notebooks/EVA/Models/1stDNNMnist_14thMay:039-val_acc:0.995.hdf5\n",
            "Epoch 40/100\n",
            "60000/60000 [==============================] - 23s 379us/step - loss: 0.0356 - acc: 0.9896 - val_loss: 0.0175 - val_acc: 0.9947\n",
            "\n",
            "Epoch 00040: val_acc did not improve from 0.99530\n",
            "Epoch 41/100\n",
            "60000/60000 [==============================] - 23s 379us/step - loss: 0.0344 - acc: 0.9890 - val_loss: 0.0183 - val_acc: 0.9950\n",
            "\n",
            "Epoch 00041: val_acc did not improve from 0.99530\n",
            "Epoch 42/100\n",
            "60000/60000 [==============================] - 21s 354us/step - loss: 0.0357 - acc: 0.9893 - val_loss: 0.0182 - val_acc: 0.9944\n",
            "\n",
            "Epoch 00042: val_acc did not improve from 0.99530\n",
            "Epoch 43/100\n",
            "60000/60000 [==============================] - 21s 357us/step - loss: 0.0356 - acc: 0.9890 - val_loss: 0.0183 - val_acc: 0.9937\n",
            "\n",
            "Epoch 00043: val_acc did not improve from 0.99530\n",
            "Epoch 44/100\n",
            "60000/60000 [==============================] - 23s 386us/step - loss: 0.0340 - acc: 0.9897 - val_loss: 0.0180 - val_acc: 0.9942\n",
            "\n",
            "Epoch 00044: val_acc did not improve from 0.99530\n",
            "Epoch 45/100\n",
            "60000/60000 [==============================] - 21s 354us/step - loss: 0.0334 - acc: 0.9899 - val_loss: 0.0177 - val_acc: 0.9947\n",
            "\n",
            "Epoch 00045: val_acc did not improve from 0.99530\n",
            "Epoch 46/100\n",
            "60000/60000 [==============================] - 21s 354us/step - loss: 0.0344 - acc: 0.9897 - val_loss: 0.0177 - val_acc: 0.9939\n",
            "\n",
            "Epoch 00046: val_acc did not improve from 0.99530\n",
            "Epoch 47/100\n",
            "60000/60000 [==============================] - 22s 372us/step - loss: 0.0338 - acc: 0.9896 - val_loss: 0.0170 - val_acc: 0.9947\n",
            "\n",
            "Epoch 00047: val_acc did not improve from 0.99530\n",
            "Epoch 48/100\n",
            "60000/60000 [==============================] - 21s 357us/step - loss: 0.0350 - acc: 0.9898 - val_loss: 0.0167 - val_acc: 0.9954\n",
            "\n",
            "Epoch 00048: val_acc improved from 0.99530 to 0.99540, saving model to /content/gdrive/My Drive/Colab Notebooks/EVA/Models/1stDNNMnist_14thMay:048-val_acc:0.995.hdf5\n",
            "Epoch 49/100\n",
            "60000/60000 [==============================] - 21s 354us/step - loss: 0.0326 - acc: 0.9907 - val_loss: 0.0178 - val_acc: 0.9950\n",
            "\n",
            "Epoch 00049: val_acc did not improve from 0.99540\n",
            "Epoch 50/100\n",
            "60000/60000 [==============================] - 21s 354us/step - loss: 0.0310 - acc: 0.9902 - val_loss: 0.0169 - val_acc: 0.9947\n",
            "\n",
            "Epoch 00050: val_acc did not improve from 0.99540\n",
            "Epoch 51/100\n",
            "60000/60000 [==============================] - 23s 376us/step - loss: 0.0321 - acc: 0.9902 - val_loss: 0.0182 - val_acc: 0.9944\n",
            "\n",
            "Epoch 00051: val_acc did not improve from 0.99540\n",
            "Epoch 52/100\n",
            "60000/60000 [==============================] - 21s 354us/step - loss: 0.0315 - acc: 0.9906 - val_loss: 0.0174 - val_acc: 0.9950\n",
            "\n",
            "Epoch 00052: val_acc did not improve from 0.99540\n",
            "Epoch 53/100\n",
            "60000/60000 [==============================] - 21s 353us/step - loss: 0.0310 - acc: 0.9908 - val_loss: 0.0168 - val_acc: 0.9953\n",
            "\n",
            "Epoch 00053: val_acc did not improve from 0.99540\n",
            "Epoch 54/100\n",
            "60000/60000 [==============================] - 21s 352us/step - loss: 0.0320 - acc: 0.9900 - val_loss: 0.0197 - val_acc: 0.9950\n",
            "\n",
            "Epoch 00054: val_acc did not improve from 0.99540\n",
            "Epoch 55/100\n",
            "60000/60000 [==============================] - 23s 390us/step - loss: 0.0325 - acc: 0.9900 - val_loss: 0.0189 - val_acc: 0.9941\n",
            "\n",
            "Epoch 00055: val_acc did not improve from 0.99540\n",
            "Epoch 56/100\n",
            "60000/60000 [==============================] - 21s 352us/step - loss: 0.0310 - acc: 0.9907 - val_loss: 0.0152 - val_acc: 0.9957\n",
            "\n",
            "Epoch 00056: val_acc improved from 0.99540 to 0.99570, saving model to /content/gdrive/My Drive/Colab Notebooks/EVA/Models/1stDNNMnist_14thMay:056-val_acc:0.996.hdf5\n",
            "Epoch 57/100\n",
            "60000/60000 [==============================] - 21s 353us/step - loss: 0.0312 - acc: 0.9903 - val_loss: 0.0151 - val_acc: 0.9957\n",
            "\n",
            "Epoch 00057: val_acc did not improve from 0.99570\n",
            "Epoch 58/100\n",
            "60000/60000 [==============================] - 22s 366us/step - loss: 0.0326 - acc: 0.9902 - val_loss: 0.0158 - val_acc: 0.9946\n",
            "\n",
            "Epoch 00058: val_acc did not improve from 0.99570\n",
            "Epoch 59/100\n",
            "60000/60000 [==============================] - 22s 363us/step - loss: 0.0305 - acc: 0.9911 - val_loss: 0.0177 - val_acc: 0.9948\n",
            "\n",
            "Epoch 00059: val_acc did not improve from 0.99570\n",
            "Epoch 60/100\n",
            "60000/60000 [==============================] - 21s 352us/step - loss: 0.0296 - acc: 0.9912 - val_loss: 0.0154 - val_acc: 0.9954\n",
            "\n",
            "Epoch 00060: val_acc did not improve from 0.99570\n",
            "Epoch 61/100\n",
            "60000/60000 [==============================] - 21s 352us/step - loss: 0.0302 - acc: 0.9909 - val_loss: 0.0170 - val_acc: 0.9947\n",
            "\n",
            "Epoch 00061: val_acc did not improve from 0.99570\n",
            "Epoch 62/100\n",
            "60000/60000 [==============================] - 22s 374us/step - loss: 0.0311 - acc: 0.9908 - val_loss: 0.0173 - val_acc: 0.9955\n",
            "\n",
            "Epoch 00062: val_acc did not improve from 0.99570\n",
            "Epoch 63/100\n",
            "60000/60000 [==============================] - 21s 350us/step - loss: 0.0304 - acc: 0.9908 - val_loss: 0.0179 - val_acc: 0.9945\n",
            "\n",
            "Epoch 00063: val_acc did not improve from 0.99570\n",
            "Epoch 64/100\n",
            "60000/60000 [==============================] - 21s 351us/step - loss: 0.0304 - acc: 0.9909 - val_loss: 0.0166 - val_acc: 0.9951\n",
            "\n",
            "Epoch 00064: val_acc did not improve from 0.99570\n",
            "Epoch 65/100\n",
            "60000/60000 [==============================] - 21s 352us/step - loss: 0.0298 - acc: 0.9911 - val_loss: 0.0175 - val_acc: 0.9948\n",
            "\n",
            "Epoch 00065: val_acc did not improve from 0.99570\n",
            "Epoch 66/100\n",
            "60000/60000 [==============================] - 23s 376us/step - loss: 0.0305 - acc: 0.9907 - val_loss: 0.0162 - val_acc: 0.9950\n",
            "\n",
            "Epoch 00066: val_acc did not improve from 0.99570\n",
            "Epoch 67/100\n",
            "60000/60000 [==============================] - 21s 352us/step - loss: 0.0296 - acc: 0.9910 - val_loss: 0.0180 - val_acc: 0.9942\n",
            "\n",
            "Epoch 00067: val_acc did not improve from 0.99570\n",
            "Epoch 68/100\n",
            "60000/60000 [==============================] - 21s 352us/step - loss: 0.0286 - acc: 0.9914 - val_loss: 0.0165 - val_acc: 0.9943\n",
            "\n",
            "Epoch 00068: val_acc did not improve from 0.99570\n",
            "Epoch 69/100\n",
            "60000/60000 [==============================] - 23s 376us/step - loss: 0.0289 - acc: 0.9914 - val_loss: 0.0166 - val_acc: 0.9950\n",
            "\n",
            "Epoch 00069: val_acc did not improve from 0.99570\n",
            "Epoch 70/100\n",
            "60000/60000 [==============================] - 22s 372us/step - loss: 0.0305 - acc: 0.9910 - val_loss: 0.0166 - val_acc: 0.9953\n",
            "\n",
            "Epoch 00070: val_acc did not improve from 0.99570\n",
            "Epoch 71/100\n",
            "60000/60000 [==============================] - 21s 350us/step - loss: 0.0289 - acc: 0.9914 - val_loss: 0.0180 - val_acc: 0.9947\n",
            "\n",
            "Epoch 00071: val_acc did not improve from 0.99570\n",
            "Epoch 72/100\n",
            "60000/60000 [==============================] - 21s 352us/step - loss: 0.0303 - acc: 0.9907 - val_loss: 0.0171 - val_acc: 0.9945\n",
            "\n",
            "Epoch 00072: val_acc did not improve from 0.99570\n",
            "Epoch 73/100\n",
            "60000/60000 [==============================] - 23s 382us/step - loss: 0.0290 - acc: 0.9916 - val_loss: 0.0184 - val_acc: 0.9942\n",
            "\n",
            "Epoch 00073: val_acc did not improve from 0.99570\n",
            "Epoch 74/100\n",
            "60000/60000 [==============================] - 21s 356us/step - loss: 0.0296 - acc: 0.9908 - val_loss: 0.0180 - val_acc: 0.9941\n",
            "\n",
            "Epoch 00074: val_acc did not improve from 0.99570\n",
            "Epoch 75/100\n",
            "60000/60000 [==============================] - 21s 352us/step - loss: 0.0303 - acc: 0.9906 - val_loss: 0.0170 - val_acc: 0.9946\n",
            "\n",
            "Epoch 00075: val_acc did not improve from 0.99570\n",
            "Epoch 76/100\n",
            "60000/60000 [==============================] - 21s 353us/step - loss: 0.0290 - acc: 0.9917 - val_loss: 0.0172 - val_acc: 0.9943\n",
            "\n",
            "Epoch 00076: val_acc did not improve from 0.99570\n",
            "Epoch 77/100\n",
            "60000/60000 [==============================] - 22s 375us/step - loss: 0.0282 - acc: 0.9914 - val_loss: 0.0188 - val_acc: 0.9939\n",
            "\n",
            "Epoch 00077: val_acc did not improve from 0.99570\n",
            "Epoch 78/100\n",
            "60000/60000 [==============================] - 21s 351us/step - loss: 0.0290 - acc: 0.9913 - val_loss: 0.0158 - val_acc: 0.9951\n",
            "\n",
            "Epoch 00078: val_acc did not improve from 0.99570\n",
            "Epoch 79/100\n",
            "60000/60000 [==============================] - 21s 351us/step - loss: 0.0288 - acc: 0.9908 - val_loss: 0.0224 - val_acc: 0.9933\n",
            "\n",
            "Epoch 00079: val_acc did not improve from 0.99570\n",
            "Epoch 80/100\n",
            "60000/60000 [==============================] - 21s 352us/step - loss: 0.0272 - acc: 0.9918 - val_loss: 0.0185 - val_acc: 0.9945\n",
            "\n",
            "Epoch 00080: val_acc did not improve from 0.99570\n",
            "Epoch 81/100\n",
            "60000/60000 [==============================] - 22s 374us/step - loss: 0.0286 - acc: 0.9915 - val_loss: 0.0170 - val_acc: 0.9950\n",
            "\n",
            "Epoch 00081: val_acc did not improve from 0.99570\n",
            "Epoch 82/100\n",
            "60000/60000 [==============================] - 21s 351us/step - loss: 0.0288 - acc: 0.9909 - val_loss: 0.0166 - val_acc: 0.9951\n",
            "\n",
            "Epoch 00082: val_acc did not improve from 0.99570\n",
            "Epoch 83/100\n",
            "60000/60000 [==============================] - 21s 352us/step - loss: 0.0270 - acc: 0.9919 - val_loss: 0.0166 - val_acc: 0.9954\n",
            "\n",
            "Epoch 00083: val_acc did not improve from 0.99570\n",
            "Epoch 84/100\n",
            "60000/60000 [==============================] - 23s 389us/step - loss: 0.0267 - acc: 0.9925 - val_loss: 0.0151 - val_acc: 0.9961\n",
            "\n",
            "Epoch 00084: val_acc improved from 0.99570 to 0.99610, saving model to /content/gdrive/My Drive/Colab Notebooks/EVA/Models/1stDNNMnist_14thMay:084-val_acc:0.996.hdf5\n",
            "Epoch 85/100\n",
            "60000/60000 [==============================] - 22s 363us/step - loss: 0.0263 - acc: 0.9918 - val_loss: 0.0168 - val_acc: 0.9954\n",
            "\n",
            "Epoch 00085: val_acc did not improve from 0.99610\n",
            "Epoch 86/100\n",
            "60000/60000 [==============================] - 21s 350us/step - loss: 0.0264 - acc: 0.9919 - val_loss: 0.0154 - val_acc: 0.9954\n",
            "\n",
            "Epoch 00086: val_acc did not improve from 0.99610\n",
            "Epoch 87/100\n",
            "60000/60000 [==============================] - 22s 364us/step - loss: 0.0284 - acc: 0.9913 - val_loss: 0.0149 - val_acc: 0.9960\n",
            "\n",
            "Epoch 00087: val_acc did not improve from 0.99610\n",
            "Epoch 88/100\n",
            "60000/60000 [==============================] - 27s 442us/step - loss: 0.0284 - acc: 0.9915 - val_loss: 0.0152 - val_acc: 0.9955\n",
            "\n",
            "Epoch 00088: val_acc did not improve from 0.99610\n",
            "Epoch 89/100\n",
            "60000/60000 [==============================] - 21s 358us/step - loss: 0.0270 - acc: 0.9917 - val_loss: 0.0154 - val_acc: 0.9953\n",
            "\n",
            "Epoch 00089: val_acc did not improve from 0.99610\n",
            "Epoch 90/100\n",
            "60000/60000 [==============================] - 21s 357us/step - loss: 0.0277 - acc: 0.9911 - val_loss: 0.0151 - val_acc: 0.9956\n",
            "\n",
            "Epoch 00090: val_acc did not improve from 0.99610\n",
            "Epoch 91/100\n",
            "60000/60000 [==============================] - 22s 359us/step - loss: 0.0278 - acc: 0.9915 - val_loss: 0.0159 - val_acc: 0.9954\n",
            "\n",
            "Epoch 00091: val_acc did not improve from 0.99610\n",
            "Epoch 92/100\n",
            "60000/60000 [==============================] - 23s 381us/step - loss: 0.0268 - acc: 0.9920 - val_loss: 0.0160 - val_acc: 0.9953\n",
            "\n",
            "Epoch 00092: val_acc did not improve from 0.99610\n",
            "Epoch 93/100\n",
            "60000/60000 [==============================] - 21s 357us/step - loss: 0.0271 - acc: 0.9915 - val_loss: 0.0155 - val_acc: 0.9953\n",
            "\n",
            "Epoch 00093: val_acc did not improve from 0.99610\n",
            "Epoch 94/100\n",
            "60000/60000 [==============================] - 21s 356us/step - loss: 0.0260 - acc: 0.9923 - val_loss: 0.0169 - val_acc: 0.9957\n",
            "\n",
            "Epoch 00094: val_acc did not improve from 0.99610\n",
            "Epoch 95/100\n",
            "60000/60000 [==============================] - 22s 372us/step - loss: 0.0264 - acc: 0.9919 - val_loss: 0.0154 - val_acc: 0.9950\n",
            "\n",
            "Epoch 00095: val_acc did not improve from 0.99610\n",
            "Epoch 96/100\n",
            "60000/60000 [==============================] - 22s 365us/step - loss: 0.0264 - acc: 0.9920 - val_loss: 0.0177 - val_acc: 0.9951\n",
            "\n",
            "Epoch 00096: val_acc did not improve from 0.99610\n",
            "Epoch 97/100\n",
            "60000/60000 [==============================] - 21s 356us/step - loss: 0.0260 - acc: 0.9918 - val_loss: 0.0157 - val_acc: 0.9953\n",
            "\n",
            "Epoch 00097: val_acc did not improve from 0.99610\n",
            "Epoch 98/100\n",
            "60000/60000 [==============================] - 23s 386us/step - loss: 0.0262 - acc: 0.9919 - val_loss: 0.0169 - val_acc: 0.9948\n",
            "\n",
            "Epoch 00098: val_acc did not improve from 0.99610\n",
            "Epoch 99/100\n",
            "60000/60000 [==============================] - 23s 379us/step - loss: 0.0248 - acc: 0.9923 - val_loss: 0.0172 - val_acc: 0.9950\n",
            "\n",
            "Epoch 00099: val_acc did not improve from 0.99610\n",
            "Epoch 100/100\n",
            "60000/60000 [==============================] - 22s 366us/step - loss: 0.0269 - acc: 0.9916 - val_loss: 0.0173 - val_acc: 0.9942\n",
            "\n",
            "Epoch 00100: val_acc did not improve from 0.99610\n"
          ],
          "name": "stdout"
        },
        {
          "output_type": "execute_result",
          "data": {
            "text/plain": [
              "<keras.callbacks.History at 0x7fc3ce8f5eb8>"
            ]
          },
          "metadata": {
            "tags": []
          },
          "execution_count": 14
        }
      ]
    },
    {
      "cell_type": "markdown",
      "metadata": {
        "id": "66P3rlSU-lFi",
        "colab_type": "text"
      },
      "source": [
        "### The model reached 99.5% Test Accuracy by 16th Epoch.\n",
        "### Training further was able to get 99.61% accuracy."
      ]
    },
    {
      "cell_type": "markdown",
      "metadata": {
        "id": "kjwXlv2H931_",
        "colab_type": "text"
      },
      "source": [
        "# Evaluating on Test data using the best model saved"
      ]
    },
    {
      "cell_type": "code",
      "metadata": {
        "id": "AtsH-lLk-eLb",
        "colab_type": "code",
        "colab": {
          "base_uri": "https://localhost:8080/",
          "height": 35
        },
        "outputId": "9a088f74-0e8b-421f-cf1d-03c5ce65fd2c"
      },
      "source": [
        "from keras.models import load_model\n",
        "modelPath = '/content/gdrive/My Drive/Colab Notebooks/EVA/Models/1stDNNMnist_14thMay:084-val_acc:0.996.hdf5'\n",
        "model = load_model(modelPath)\n",
        "\n",
        "score = model.evaluate(X_test, Y_test, verbose=0)\n",
        "print(score)"
      ],
      "execution_count": 16,
      "outputs": [
        {
          "output_type": "stream",
          "text": [
            "[0.015111674206482711, 0.9961]\n"
          ],
          "name": "stdout"
        }
      ]
    },
    {
      "cell_type": "code",
      "metadata": {
        "id": "OCWoJkwE9suh",
        "colab_type": "code",
        "colab": {}
      },
      "source": [
        "y_pred = model.predict(X_test)"
      ],
      "execution_count": 0,
      "outputs": []
    },
    {
      "cell_type": "code",
      "metadata": {
        "id": "Ym7iCFBm9uBs",
        "colab_type": "code",
        "outputId": "b79675ca-a901-4971-fae9-df53efb8c7a1",
        "colab": {
          "base_uri": "https://localhost:8080/",
          "height": 515
        }
      },
      "source": [
        "print(y_pred[:9])\n",
        "print(y_test[:9])"
      ],
      "execution_count": 18,
      "outputs": [
        {
          "output_type": "stream",
          "text": [
            "[[4.70739133e-06 1.21049605e-04 6.53377128e-06 4.59015155e-06\n",
            "  5.83271003e-06 3.07340372e-07 2.14069382e-06 9.99839664e-01\n",
            "  2.53263897e-06 1.25683528e-05]\n",
            " [9.99388590e-07 1.45232800e-04 9.99790132e-01 1.94776277e-07\n",
            "  2.05123542e-05 6.60466659e-09 4.22892263e-05 2.90928540e-07\n",
            "  1.00784703e-07 2.48952603e-07]\n",
            " [3.11901204e-06 9.99724925e-01 2.72417401e-06 5.94269113e-06\n",
            "  2.77005688e-06 8.85822772e-07 1.87086218e-04 7.10896056e-05\n",
            "  9.65134404e-07 4.39047994e-07]\n",
            " [9.99961972e-01 7.22108609e-07 3.22099076e-08 1.70284579e-06\n",
            "  5.57023952e-07 4.47556573e-07 3.14103308e-05 4.92097953e-08\n",
            "  1.32896923e-06 1.78366361e-06]\n",
            " [1.07451392e-07 1.49786149e-06 4.06251610e-09 1.36205145e-07\n",
            "  9.99976397e-01 6.24480156e-09 9.00378211e-07 3.34992222e-07\n",
            "  4.94210184e-08 2.06055502e-05]\n",
            " [3.45510171e-06 9.99866605e-01 2.03092850e-06 1.35415257e-06\n",
            "  2.72379589e-06 1.29194859e-07 5.76034872e-05 6.47103370e-05\n",
            "  8.83550399e-07 5.98530335e-07]\n",
            " [3.24222952e-07 1.19156211e-04 1.28749662e-06 1.20233267e-07\n",
            "  9.99788344e-01 1.63884238e-07 2.92901950e-06 1.30398139e-05\n",
            "  8.80104290e-06 6.59706420e-05]\n",
            " [2.96319598e-07 5.58825150e-06 1.36768620e-06 5.55939494e-07\n",
            "  1.05442782e-03 3.21599146e-07 8.74938095e-08 1.19738317e-07\n",
            "  1.22193785e-06 9.98935997e-01]\n",
            " [3.43184627e-04 1.13270042e-04 1.43290649e-03 9.10798917e-05\n",
            "  3.53827840e-03 6.60508752e-01 3.21364939e-01 1.75271602e-03\n",
            "  9.98674612e-03 8.68089439e-04]]\n",
            "[7 2 1 0 4 1 4 9 5]\n"
          ],
          "name": "stdout"
        }
      ]
    },
    {
      "cell_type": "code",
      "metadata": {
        "id": "CT--y98_dr2T",
        "colab_type": "code",
        "colab": {}
      },
      "source": [
        "layer_dict = dict([(layer.name, layer) for layer in model.layers])"
      ],
      "execution_count": 0,
      "outputs": []
    },
    {
      "cell_type": "code",
      "metadata": {
        "id": "wmIvUr7TGYeW",
        "colab_type": "code",
        "colab": {
          "base_uri": "https://localhost:8080/",
          "height": 639
        },
        "outputId": "a7b12ff6-e52e-42c6-f6d5-d75f524003a8"
      },
      "source": [
        "layer_dict"
      ],
      "execution_count": 21,
      "outputs": [
        {
          "output_type": "execute_result",
          "data": {
            "text/plain": [
              "{'activation_1': <keras.layers.core.Activation at 0x7fc3878582b0>,\n",
              " 'activation_2': <keras.layers.core.Activation at 0x7fc38784fa20>,\n",
              " 'activation_3': <keras.layers.core.Activation at 0x7fc3a02d4cf8>,\n",
              " 'activation_4': <keras.layers.core.Activation at 0x7fc38784f0b8>,\n",
              " 'activation_5': <keras.layers.core.Activation at 0x7fc3878474e0>,\n",
              " 'activation_6': <keras.layers.core.Activation at 0x7fc38784b0b8>,\n",
              " 'activation_7': <keras.layers.core.Activation at 0x7fc387852668>,\n",
              " 'activation_8': <keras.layers.core.Activation at 0x7fc3878529b0>,\n",
              " 'batch_normalization_1': <keras.layers.normalization.BatchNormalization at 0x7fc387858080>,\n",
              " 'batch_normalization_2': <keras.layers.normalization.BatchNormalization at 0x7fc38784fd68>,\n",
              " 'batch_normalization_3': <keras.layers.normalization.BatchNormalization at 0x7fc38784f438>,\n",
              " 'batch_normalization_4': <keras.layers.normalization.BatchNormalization at 0x7fc38784b6d8>,\n",
              " 'batch_normalization_5': <keras.layers.normalization.BatchNormalization at 0x7fc387847898>,\n",
              " 'batch_normalization_6': <keras.layers.normalization.BatchNormalization at 0x7fc3878b7cc0>,\n",
              " 'batch_normalization_7': <keras.layers.normalization.BatchNormalization at 0x7fc387852550>,\n",
              " 'batch_normalization_8': <keras.layers.normalization.BatchNormalization at 0x7fc387852828>,\n",
              " 'conv2d_1': <keras.layers.convolutional.Conv2D at 0x7fc3a02d4278>,\n",
              " 'conv2d_2': <keras.layers.convolutional.Conv2D at 0x7fc3878582e8>,\n",
              " 'conv2d_3': <keras.layers.convolutional.Conv2D at 0x7fc38784f978>,\n",
              " 'conv2d_4': <keras.layers.convolutional.Conv2D at 0x7fc38784bcc0>,\n",
              " 'conv2d_5': <keras.layers.convolutional.Conv2D at 0x7fc387847f28>,\n",
              " 'conv2d_6': <keras.layers.convolutional.Conv2D at 0x7fc387847358>,\n",
              " 'conv2d_7': <keras.layers.convolutional.Conv2D at 0x7fc387852390>,\n",
              " 'conv2d_8': <keras.layers.convolutional.Conv2D at 0x7fc3878526a0>,\n",
              " 'dropout_1': <keras.layers.core.Dropout at 0x7fc387858048>,\n",
              " 'dropout_2': <keras.layers.core.Dropout at 0x7fc38784fe10>,\n",
              " 'dropout_3': <keras.layers.core.Dropout at 0x7fc38784f4e0>,\n",
              " 'dropout_4': <keras.layers.core.Dropout at 0x7fc38784b5f8>,\n",
              " 'dropout_5': <keras.layers.core.Dropout at 0x7fc387847a20>,\n",
              " 'dropout_6': <keras.layers.core.Dropout at 0x7fc3878b7eb8>,\n",
              " 'dropout_7': <keras.layers.core.Dropout at 0x7fc387852518>,\n",
              " 'flatten_1': <keras.layers.core.Flatten at 0x7fc387852940>,\n",
              " 'input_1': <keras.engine.input_layer.InputLayer at 0x7fc3a02d4e10>,\n",
              " 'max_pooling2d_1': <keras.layers.pooling.MaxPooling2D at 0x7fc38784bf60>,\n",
              " 'max_pooling2d_2': <keras.layers.pooling.MaxPooling2D at 0x7fc38789be80>}"
            ]
          },
          "metadata": {
            "tags": []
          },
          "execution_count": 21
        }
      ]
    },
    {
      "cell_type": "code",
      "metadata": {
        "id": "2GY4Upv4dsUR",
        "colab_type": "code",
        "outputId": "a93fe33d-d031-40b9-e1e5-994d6071e0f9",
        "colab": {
          "base_uri": "https://localhost:8080/",
          "height": 741
        }
      },
      "source": [
        "import numpy as np\n",
        "from matplotlib import pyplot as plt\n",
        "from keras import backend as K\n",
        "%matplotlib inline\n",
        "# util function to convert a tensor into a valid image\n",
        "def deprocess_image(x):\n",
        "    # normalize tensor: center on 0., ensure std is 0.1\n",
        "    x -= x.mean()\n",
        "    x /= (x.std() + 1e-5)\n",
        "    x *= 0.1\n",
        "\n",
        "    # clip to [0, 1]\n",
        "    x += 0.5\n",
        "    x = np.clip(x, 0, 1)\n",
        "\n",
        "    # convert to RGB array\n",
        "    x *= 255\n",
        "    #x = x.transpose((1, 2, 0))\n",
        "    x = np.clip(x, 0, 255).astype('uint8')\n",
        "    return x\n",
        "\n",
        "def vis_img_in_filter(img = np.array(X_train[2]).reshape((1, 28, 28, 1)).astype(np.float64), \n",
        "                      layer_name = 'conv2d_4'):\n",
        "    layer_output = layer_dict[layer_name].output\n",
        "    img_ascs = list()\n",
        "    for filter_index in range(layer_output.shape[3]):\n",
        "        # build a loss function that maximizes the activation\n",
        "        # of the nth filter of the layer considered\n",
        "        loss = K.mean(layer_output[:, :, :, filter_index])\n",
        "\n",
        "        # compute the gradient of the input picture wrt this loss\n",
        "        grads = K.gradients(loss, model.input)[0]\n",
        "\n",
        "        # normalization trick: we normalize the gradient\n",
        "        grads /= (K.sqrt(K.mean(K.square(grads))) + 1e-5)\n",
        "\n",
        "        # this function returns the loss and grads given the input picture\n",
        "        iterate = K.function([model.input], [loss, grads])\n",
        "\n",
        "        # step size for gradient ascent\n",
        "        step = 5.\n",
        "\n",
        "        img_asc = np.array(img)\n",
        "        # run gradient ascent for 20 steps\n",
        "        for i in range(20):\n",
        "            loss_value, grads_value = iterate([img_asc])\n",
        "            img_asc += grads_value * step\n",
        "\n",
        "        img_asc = img_asc[0]\n",
        "        img_ascs.append(deprocess_image(img_asc).reshape((28, 28)))\n",
        "        \n",
        "    if layer_output.shape[3] >= 35:\n",
        "        plot_x, plot_y = 6, 6\n",
        "    elif layer_output.shape[3] >= 23:\n",
        "        plot_x, plot_y = 4, 6\n",
        "    elif layer_output.shape[3] >= 11:\n",
        "        plot_x, plot_y = 2, 6\n",
        "    else:\n",
        "        plot_x, plot_y = 1, 2\n",
        "    fig, ax = plt.subplots(plot_x, plot_y, figsize = (12, 12))\n",
        "    ax[0, 0].imshow(img.reshape((28, 28)), cmap = 'gray')\n",
        "    ax[0, 0].set_title('Input image')\n",
        "    fig.suptitle('Input image and %s filters' % (layer_name,))\n",
        "    fig.tight_layout(pad = 0.3, rect = [0, 0, 0.9, 0.9])\n",
        "    for (x, y) in [(i, j) for i in range(plot_x) for j in range(plot_y)]:\n",
        "        if x == 0 and y == 0:\n",
        "            continue\n",
        "        ax[x, y].imshow(img_ascs[x * plot_y + y - 1], cmap = 'gray')\n",
        "        ax[x, y].set_title('filter %d' % (x * plot_y + y - 1))\n",
        "\n",
        "vis_img_in_filter()"
      ],
      "execution_count": 23,
      "outputs": [
        {
          "output_type": "display_data",
          "data": {
            "image/png": "[encoded data removed]",
            "text/plain": [
              "<Figure size 864x864 with 12 Axes>"
            ]
          },
          "metadata": {
            "tags": []
          }
        }
      ]
    },
    {
      "cell_type": "code",
      "metadata": {
        "id": "9tvptcn8dxvp",
        "colab_type": "code",
        "colab": {}
      },
      "source": [
        ""
      ],
      "execution_count": 0,
      "outputs": []
    }
  ]
}
